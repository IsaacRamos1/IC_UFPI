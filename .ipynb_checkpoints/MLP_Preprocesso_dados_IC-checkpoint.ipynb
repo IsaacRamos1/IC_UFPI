{
 "cells": [
  {
   "cell_type": "code",
   "execution_count": 2,
   "id": "042371da",
   "metadata": {
    "id": "b3ae055c"
   },
   "outputs": [],
   "source": [
    "import pandas as pd"
   ]
  },
  {
   "cell_type": "code",
   "execution_count": 3,
   "id": "bab67c0b",
   "metadata": {
    "id": "bab67c0b"
   },
   "outputs": [],
   "source": [
    "df = pd.read_csv('allvixm-val-data.csv', sep=';')"
   ]
  },
  {
   "cell_type": "code",
   "execution_count": 4,
   "id": "dd09a967",
   "metadata": {
    "colab": {
     "base_uri": "https://localhost:8080/",
     "height": 427
    },
    "id": "dd09a967",
    "outputId": "71e3e304-31ba-416b-902a-cd0284250075",
    "scrolled": false
   },
   "outputs": [
    {
     "data": {
      "text/html": [
       "<div>\n",
       "<style scoped>\n",
       "    .dataframe tbody tr th:only-of-type {\n",
       "        vertical-align: middle;\n",
       "    }\n",
       "\n",
       "    .dataframe tbody tr th {\n",
       "        vertical-align: top;\n",
       "    }\n",
       "\n",
       "    .dataframe thead th {\n",
       "        text-align: right;\n",
       "    }\n",
       "</style>\n",
       "<table border=\"1\" class=\"dataframe\">\n",
       "  <thead>\n",
       "    <tr style=\"text-align: right;\">\n",
       "      <th></th>\n",
       "      <th>id</th>\n",
       "      <th>donor_id</th>\n",
       "      <th>donor_hla</th>\n",
       "      <th>patient_id</th>\n",
       "      <th>patient_cpra</th>\n",
       "      <th>patient_hla</th>\n",
       "      <th>patient_single_cl1</th>\n",
       "      <th>patient_single_cl2</th>\n",
       "      <th>patient_mixed_cl1</th>\n",
       "      <th>patient_mixed_cl2</th>\n",
       "      <th>epv_result</th>\n",
       "      <th>cdc_result</th>\n",
       "    </tr>\n",
       "  </thead>\n",
       "  <tbody>\n",
       "    <tr>\n",
       "      <th>0</th>\n",
       "      <td>558716</td>\n",
       "      <td>308155-126</td>\n",
       "      <td>A*03:01,A*80:01,B*35:03,B*44:03,CW*04:01,CW*04...</td>\n",
       "      <td>71334-2660</td>\n",
       "      <td>91</td>\n",
       "      <td>A*29:02,A*30:02,B*51:01,B*58:01,DRB1*13:01,DRB...</td>\n",
       "      <td>A*01:01,A*02:01,A*02:03,A*02:06,A*11:01,A*11:0...</td>\n",
       "      <td>DPB1*01:01,DPB1*05:01,DPB1*03:01,DPB1*06:01,DP...</td>\n",
       "      <td>1</td>\n",
       "      <td>1</td>\n",
       "      <td>0</td>\n",
       "      <td>0</td>\n",
       "    </tr>\n",
       "    <tr>\n",
       "      <th>1</th>\n",
       "      <td>558658</td>\n",
       "      <td>308155-126</td>\n",
       "      <td>A*03:01,A*80:01,B*35:03,B*44:03,CW*04:01,CW*04...</td>\n",
       "      <td>205670-2660</td>\n",
       "      <td>75</td>\n",
       "      <td>A*02:01,A*02:01,B*15:16,B*40:04,DRB1*07:01,DRB...</td>\n",
       "      <td>A*01:01,A*23:01,A*24:02,A*24:03,A*80:01</td>\n",
       "      <td>DRB1*13:03,DRB1*12:02,DRB1*14:54,DRB1*14:01,DR...</td>\n",
       "      <td>-</td>\n",
       "      <td>-</td>\n",
       "      <td>1</td>\n",
       "      <td>0</td>\n",
       "    </tr>\n",
       "    <tr>\n",
       "      <th>2</th>\n",
       "      <td>558657</td>\n",
       "      <td>308155-126</td>\n",
       "      <td>A*03:01,A*80:01,B*35:03,B*44:03,CW*04:01,CW*04...</td>\n",
       "      <td>233572-2660</td>\n",
       "      <td>18</td>\n",
       "      <td>A*03:01,A*23:01,B*07:02,B*07:05,DRB1*07:01,DRB...</td>\n",
       "      <td>B*35:01,B*51:01,B*53:01,B*78:01</td>\n",
       "      <td>-</td>\n",
       "      <td>1</td>\n",
       "      <td>0</td>\n",
       "      <td>1</td>\n",
       "      <td>1</td>\n",
       "    </tr>\n",
       "    <tr>\n",
       "      <th>3</th>\n",
       "      <td>558656</td>\n",
       "      <td>308155-126</td>\n",
       "      <td>A*03:01,A*80:01,B*35:03,B*44:03,CW*04:01,CW*04...</td>\n",
       "      <td>235844-2660</td>\n",
       "      <td>0</td>\n",
       "      <td>A*02:01,A*30:02,B*35:01,B*45:01,DRB1*07:01,DRB...</td>\n",
       "      <td>-</td>\n",
       "      <td>-</td>\n",
       "      <td>0</td>\n",
       "      <td>0</td>\n",
       "      <td>-</td>\n",
       "      <td>0</td>\n",
       "    </tr>\n",
       "    <tr>\n",
       "      <th>4</th>\n",
       "      <td>558655</td>\n",
       "      <td>308155-126</td>\n",
       "      <td>A*03:01,A*80:01,B*35:03,B*44:03,CW*04:01,CW*04...</td>\n",
       "      <td>242776-2660</td>\n",
       "      <td>0</td>\n",
       "      <td>A*03:01,A*23:01,B*35:01,B*45:01,DRB1*01:01,DRB...</td>\n",
       "      <td>-</td>\n",
       "      <td>-</td>\n",
       "      <td>0</td>\n",
       "      <td>0</td>\n",
       "      <td>-</td>\n",
       "      <td>0</td>\n",
       "    </tr>\n",
       "    <tr>\n",
       "      <th>5</th>\n",
       "      <td>558654</td>\n",
       "      <td>308155-126</td>\n",
       "      <td>A*03:01,A*80:01,B*35:03,B*44:03,CW*04:01,CW*04...</td>\n",
       "      <td>235944-2660</td>\n",
       "      <td>49</td>\n",
       "      <td>A*02:01,A*74:01,B*35:01,B*50:01,DRB1*07:01,DRB...</td>\n",
       "      <td>A*23:01,A*24:02,A*24:03,A*25:01,A*29:01,B*27:0...</td>\n",
       "      <td>DRB1*03:01,DRB1*03:02,DRB1*08:01,DRB1*11:01,DR...</td>\n",
       "      <td>-</td>\n",
       "      <td>-</td>\n",
       "      <td>1</td>\n",
       "      <td>1</td>\n",
       "    </tr>\n",
       "    <tr>\n",
       "      <th>6</th>\n",
       "      <td>558653</td>\n",
       "      <td>308155-126</td>\n",
       "      <td>A*03:01,A*80:01,B*35:03,B*44:03,CW*04:01,CW*04...</td>\n",
       "      <td>234324-2660</td>\n",
       "      <td>0</td>\n",
       "      <td>A*29:02,A*68:01,B*35:01,B*35:01,DRB1*07:01,DRB...</td>\n",
       "      <td>-</td>\n",
       "      <td>-</td>\n",
       "      <td>0</td>\n",
       "      <td>0</td>\n",
       "      <td>-</td>\n",
       "      <td>0</td>\n",
       "    </tr>\n",
       "    <tr>\n",
       "      <th>7</th>\n",
       "      <td>558652</td>\n",
       "      <td>308155-126</td>\n",
       "      <td>A*03:01,A*80:01,B*35:03,B*44:03,CW*04:01,CW*04...</td>\n",
       "      <td>237374-2660</td>\n",
       "      <td>0</td>\n",
       "      <td>A*02:01,A*30:02,B*07:02,B*44:02,DRB1*07:01,DRB...</td>\n",
       "      <td>-</td>\n",
       "      <td>-</td>\n",
       "      <td>0</td>\n",
       "      <td>0</td>\n",
       "      <td>-</td>\n",
       "      <td>0</td>\n",
       "    </tr>\n",
       "    <tr>\n",
       "      <th>8</th>\n",
       "      <td>558651</td>\n",
       "      <td>308155-126</td>\n",
       "      <td>A*03:01,A*80:01,B*35:03,B*44:03,CW*04:01,CW*04...</td>\n",
       "      <td>213948-2660</td>\n",
       "      <td>6</td>\n",
       "      <td>A*02:01,A*23:01,B*41:01,B*44:03,DRB1*07:01,DRB...</td>\n",
       "      <td>NaN</td>\n",
       "      <td>-</td>\n",
       "      <td>1</td>\n",
       "      <td>0</td>\n",
       "      <td>0</td>\n",
       "      <td>0</td>\n",
       "    </tr>\n",
       "    <tr>\n",
       "      <th>9</th>\n",
       "      <td>558649</td>\n",
       "      <td>308155-126</td>\n",
       "      <td>A*03:01,A*80:01,B*35:03,B*44:03,CW*04:01,CW*04...</td>\n",
       "      <td>217269-2660</td>\n",
       "      <td>0</td>\n",
       "      <td>A*24:02,A*29:02,B*44:03,B*50:01,DRB1*07:01,DRB...</td>\n",
       "      <td>-</td>\n",
       "      <td>-</td>\n",
       "      <td>0</td>\n",
       "      <td>0</td>\n",
       "      <td>-</td>\n",
       "      <td>0</td>\n",
       "    </tr>\n",
       "  </tbody>\n",
       "</table>\n",
       "</div>"
      ],
      "text/plain": [
       "       id    donor_id                                          donor_hla  \\\n",
       "0  558716  308155-126  A*03:01,A*80:01,B*35:03,B*44:03,CW*04:01,CW*04...   \n",
       "1  558658  308155-126  A*03:01,A*80:01,B*35:03,B*44:03,CW*04:01,CW*04...   \n",
       "2  558657  308155-126  A*03:01,A*80:01,B*35:03,B*44:03,CW*04:01,CW*04...   \n",
       "3  558656  308155-126  A*03:01,A*80:01,B*35:03,B*44:03,CW*04:01,CW*04...   \n",
       "4  558655  308155-126  A*03:01,A*80:01,B*35:03,B*44:03,CW*04:01,CW*04...   \n",
       "5  558654  308155-126  A*03:01,A*80:01,B*35:03,B*44:03,CW*04:01,CW*04...   \n",
       "6  558653  308155-126  A*03:01,A*80:01,B*35:03,B*44:03,CW*04:01,CW*04...   \n",
       "7  558652  308155-126  A*03:01,A*80:01,B*35:03,B*44:03,CW*04:01,CW*04...   \n",
       "8  558651  308155-126  A*03:01,A*80:01,B*35:03,B*44:03,CW*04:01,CW*04...   \n",
       "9  558649  308155-126  A*03:01,A*80:01,B*35:03,B*44:03,CW*04:01,CW*04...   \n",
       "\n",
       "    patient_id  patient_cpra  \\\n",
       "0   71334-2660            91   \n",
       "1  205670-2660            75   \n",
       "2  233572-2660            18   \n",
       "3  235844-2660             0   \n",
       "4  242776-2660             0   \n",
       "5  235944-2660            49   \n",
       "6  234324-2660             0   \n",
       "7  237374-2660             0   \n",
       "8  213948-2660             6   \n",
       "9  217269-2660             0   \n",
       "\n",
       "                                         patient_hla  \\\n",
       "0  A*29:02,A*30:02,B*51:01,B*58:01,DRB1*13:01,DRB...   \n",
       "1  A*02:01,A*02:01,B*15:16,B*40:04,DRB1*07:01,DRB...   \n",
       "2  A*03:01,A*23:01,B*07:02,B*07:05,DRB1*07:01,DRB...   \n",
       "3  A*02:01,A*30:02,B*35:01,B*45:01,DRB1*07:01,DRB...   \n",
       "4  A*03:01,A*23:01,B*35:01,B*45:01,DRB1*01:01,DRB...   \n",
       "5  A*02:01,A*74:01,B*35:01,B*50:01,DRB1*07:01,DRB...   \n",
       "6  A*29:02,A*68:01,B*35:01,B*35:01,DRB1*07:01,DRB...   \n",
       "7  A*02:01,A*30:02,B*07:02,B*44:02,DRB1*07:01,DRB...   \n",
       "8  A*02:01,A*23:01,B*41:01,B*44:03,DRB1*07:01,DRB...   \n",
       "9  A*24:02,A*29:02,B*44:03,B*50:01,DRB1*07:01,DRB...   \n",
       "\n",
       "                                  patient_single_cl1  \\\n",
       "0  A*01:01,A*02:01,A*02:03,A*02:06,A*11:01,A*11:0...   \n",
       "1            A*01:01,A*23:01,A*24:02,A*24:03,A*80:01   \n",
       "2                    B*35:01,B*51:01,B*53:01,B*78:01   \n",
       "3                                                  -   \n",
       "4                                                  -   \n",
       "5  A*23:01,A*24:02,A*24:03,A*25:01,A*29:01,B*27:0...   \n",
       "6                                                  -   \n",
       "7                                                  -   \n",
       "8                                                NaN   \n",
       "9                                                  -   \n",
       "\n",
       "                                  patient_single_cl2 patient_mixed_cl1  \\\n",
       "0  DPB1*01:01,DPB1*05:01,DPB1*03:01,DPB1*06:01,DP...                 1   \n",
       "1  DRB1*13:03,DRB1*12:02,DRB1*14:54,DRB1*14:01,DR...                 -   \n",
       "2                                                  -                 1   \n",
       "3                                                  -                 0   \n",
       "4                                                  -                 0   \n",
       "5  DRB1*03:01,DRB1*03:02,DRB1*08:01,DRB1*11:01,DR...                 -   \n",
       "6                                                  -                 0   \n",
       "7                                                  -                 0   \n",
       "8                                                  -                 1   \n",
       "9                                                  -                 0   \n",
       "\n",
       "  patient_mixed_cl2 epv_result  cdc_result  \n",
       "0                 1          0           0  \n",
       "1                 -          1           0  \n",
       "2                 0          1           1  \n",
       "3                 0          -           0  \n",
       "4                 0          -           0  \n",
       "5                 -          1           1  \n",
       "6                 0          -           0  \n",
       "7                 0          -           0  \n",
       "8                 0          0           0  \n",
       "9                 0          -           0  "
      ]
     },
     "execution_count": 4,
     "metadata": {},
     "output_type": "execute_result"
    }
   ],
   "source": [
    "df.head(10)"
   ]
  },
  {
   "cell_type": "code",
   "execution_count": 5,
   "id": "2e4ecbf0",
   "metadata": {
    "id": "2e4ecbf0"
   },
   "outputs": [],
   "source": [
    "def classificarColuna(nome):\n",
    "    data_array = [] ## array para pegar todas os dados diferentes da coluna\n",
    "    dict_dif_data = {} ## dict para classificar os 196 diferentes\n",
    "\n",
    "    for x in df[nome]:\n",
    "        if x not in data_array:\n",
    "            if x == 'NaN':\n",
    "                continue\n",
    "            else:\n",
    "                data_array.append(x)\n",
    "                \n",
    "    print(len(data_array))\n",
    "    \n",
    "    count = 0\n",
    "    for x in data_array:\n",
    "        dict_dif_data[x] = count\n",
    "        count += 1\n",
    "    \n",
    "    for x in range(len(df[nome])):\n",
    "        if str(dict_dif_data[df[nome][x]]) == 'nan':\n",
    "            continue\n",
    "        else:\n",
    "            df[nome][x] = str(dict_dif_data[df[nome][x]])"
   ]
  },
  {
   "cell_type": "code",
   "execution_count": 6,
   "id": "2318ca7d",
   "metadata": {
    "colab": {
     "base_uri": "https://localhost:8080/"
    },
    "id": "2318ca7d",
    "outputId": "d89784e6-2979-4f84-ff7c-f19557062208"
   },
   "outputs": [
    {
     "name": "stdout",
     "output_type": "stream",
     "text": [
      "180\n"
     ]
    },
    {
     "name": "stderr",
     "output_type": "stream",
     "text": [
      "C:\\Users\\isac_\\AppData\\Local\\Temp\\ipykernel_26980\\3087468214.py:23: SettingWithCopyWarning: \n",
      "A value is trying to be set on a copy of a slice from a DataFrame\n",
      "\n",
      "See the caveats in the documentation: https://pandas.pydata.org/pandas-docs/stable/user_guide/indexing.html#returning-a-view-versus-a-copy\n",
      "  df[nome][x] = str(dict_dif_data[df[nome][x]])\n"
     ]
    },
    {
     "name": "stdout",
     "output_type": "stream",
     "text": [
      "146\n"
     ]
    }
   ],
   "source": [
    "classificarColuna('patient_single_cl1')\n",
    "classificarColuna('patient_single_cl2')"
   ]
  },
  {
   "cell_type": "code",
   "execution_count": 7,
   "id": "9ab6d760",
   "metadata": {
    "id": "9ab6d760"
   },
   "outputs": [],
   "source": [
    "df_mod = df"
   ]
  },
  {
   "cell_type": "code",
   "execution_count": 8,
   "id": "2ec27436",
   "metadata": {
    "colab": {
     "base_uri": "https://localhost:8080/",
     "height": 270
    },
    "id": "2ec27436",
    "outputId": "f5248ee3-3d2f-4a69-9e58-b2f1ba19541a"
   },
   "outputs": [
    {
     "data": {
      "text/html": [
       "<div>\n",
       "<style scoped>\n",
       "    .dataframe tbody tr th:only-of-type {\n",
       "        vertical-align: middle;\n",
       "    }\n",
       "\n",
       "    .dataframe tbody tr th {\n",
       "        vertical-align: top;\n",
       "    }\n",
       "\n",
       "    .dataframe thead th {\n",
       "        text-align: right;\n",
       "    }\n",
       "</style>\n",
       "<table border=\"1\" class=\"dataframe\">\n",
       "  <thead>\n",
       "    <tr style=\"text-align: right;\">\n",
       "      <th></th>\n",
       "      <th>id</th>\n",
       "      <th>donor_id</th>\n",
       "      <th>donor_hla</th>\n",
       "      <th>patient_id</th>\n",
       "      <th>patient_cpra</th>\n",
       "      <th>patient_hla</th>\n",
       "      <th>patient_single_cl1</th>\n",
       "      <th>patient_single_cl2</th>\n",
       "      <th>patient_mixed_cl1</th>\n",
       "      <th>patient_mixed_cl2</th>\n",
       "      <th>epv_result</th>\n",
       "      <th>cdc_result</th>\n",
       "    </tr>\n",
       "  </thead>\n",
       "  <tbody>\n",
       "    <tr>\n",
       "      <th>0</th>\n",
       "      <td>558716</td>\n",
       "      <td>308155-126</td>\n",
       "      <td>A*03:01,A*80:01,B*35:03,B*44:03,CW*04:01,CW*04...</td>\n",
       "      <td>71334-2660</td>\n",
       "      <td>91</td>\n",
       "      <td>A*29:02,A*30:02,B*51:01,B*58:01,DRB1*13:01,DRB...</td>\n",
       "      <td>0</td>\n",
       "      <td>0</td>\n",
       "      <td>1</td>\n",
       "      <td>1</td>\n",
       "      <td>0</td>\n",
       "      <td>0</td>\n",
       "    </tr>\n",
       "    <tr>\n",
       "      <th>1</th>\n",
       "      <td>558658</td>\n",
       "      <td>308155-126</td>\n",
       "      <td>A*03:01,A*80:01,B*35:03,B*44:03,CW*04:01,CW*04...</td>\n",
       "      <td>205670-2660</td>\n",
       "      <td>75</td>\n",
       "      <td>A*02:01,A*02:01,B*15:16,B*40:04,DRB1*07:01,DRB...</td>\n",
       "      <td>1</td>\n",
       "      <td>1</td>\n",
       "      <td>-</td>\n",
       "      <td>-</td>\n",
       "      <td>1</td>\n",
       "      <td>0</td>\n",
       "    </tr>\n",
       "    <tr>\n",
       "      <th>2</th>\n",
       "      <td>558657</td>\n",
       "      <td>308155-126</td>\n",
       "      <td>A*03:01,A*80:01,B*35:03,B*44:03,CW*04:01,CW*04...</td>\n",
       "      <td>233572-2660</td>\n",
       "      <td>18</td>\n",
       "      <td>A*03:01,A*23:01,B*07:02,B*07:05,DRB1*07:01,DRB...</td>\n",
       "      <td>2</td>\n",
       "      <td>2</td>\n",
       "      <td>1</td>\n",
       "      <td>0</td>\n",
       "      <td>1</td>\n",
       "      <td>1</td>\n",
       "    </tr>\n",
       "    <tr>\n",
       "      <th>3</th>\n",
       "      <td>558656</td>\n",
       "      <td>308155-126</td>\n",
       "      <td>A*03:01,A*80:01,B*35:03,B*44:03,CW*04:01,CW*04...</td>\n",
       "      <td>235844-2660</td>\n",
       "      <td>0</td>\n",
       "      <td>A*02:01,A*30:02,B*35:01,B*45:01,DRB1*07:01,DRB...</td>\n",
       "      <td>3</td>\n",
       "      <td>2</td>\n",
       "      <td>0</td>\n",
       "      <td>0</td>\n",
       "      <td>-</td>\n",
       "      <td>0</td>\n",
       "    </tr>\n",
       "    <tr>\n",
       "      <th>4</th>\n",
       "      <td>558655</td>\n",
       "      <td>308155-126</td>\n",
       "      <td>A*03:01,A*80:01,B*35:03,B*44:03,CW*04:01,CW*04...</td>\n",
       "      <td>242776-2660</td>\n",
       "      <td>0</td>\n",
       "      <td>A*03:01,A*23:01,B*35:01,B*45:01,DRB1*01:01,DRB...</td>\n",
       "      <td>3</td>\n",
       "      <td>2</td>\n",
       "      <td>0</td>\n",
       "      <td>0</td>\n",
       "      <td>-</td>\n",
       "      <td>0</td>\n",
       "    </tr>\n",
       "  </tbody>\n",
       "</table>\n",
       "</div>"
      ],
      "text/plain": [
       "       id    donor_id                                          donor_hla  \\\n",
       "0  558716  308155-126  A*03:01,A*80:01,B*35:03,B*44:03,CW*04:01,CW*04...   \n",
       "1  558658  308155-126  A*03:01,A*80:01,B*35:03,B*44:03,CW*04:01,CW*04...   \n",
       "2  558657  308155-126  A*03:01,A*80:01,B*35:03,B*44:03,CW*04:01,CW*04...   \n",
       "3  558656  308155-126  A*03:01,A*80:01,B*35:03,B*44:03,CW*04:01,CW*04...   \n",
       "4  558655  308155-126  A*03:01,A*80:01,B*35:03,B*44:03,CW*04:01,CW*04...   \n",
       "\n",
       "    patient_id  patient_cpra  \\\n",
       "0   71334-2660            91   \n",
       "1  205670-2660            75   \n",
       "2  233572-2660            18   \n",
       "3  235844-2660             0   \n",
       "4  242776-2660             0   \n",
       "\n",
       "                                         patient_hla patient_single_cl1  \\\n",
       "0  A*29:02,A*30:02,B*51:01,B*58:01,DRB1*13:01,DRB...                  0   \n",
       "1  A*02:01,A*02:01,B*15:16,B*40:04,DRB1*07:01,DRB...                  1   \n",
       "2  A*03:01,A*23:01,B*07:02,B*07:05,DRB1*07:01,DRB...                  2   \n",
       "3  A*02:01,A*30:02,B*35:01,B*45:01,DRB1*07:01,DRB...                  3   \n",
       "4  A*03:01,A*23:01,B*35:01,B*45:01,DRB1*01:01,DRB...                  3   \n",
       "\n",
       "  patient_single_cl2 patient_mixed_cl1 patient_mixed_cl2 epv_result  \\\n",
       "0                  0                 1                 1          0   \n",
       "1                  1                 -                 -          1   \n",
       "2                  2                 1                 0          1   \n",
       "3                  2                 0                 0          -   \n",
       "4                  2                 0                 0          -   \n",
       "\n",
       "   cdc_result  \n",
       "0           0  \n",
       "1           0  \n",
       "2           1  \n",
       "3           0  \n",
       "4           0  "
      ]
     },
     "execution_count": 8,
     "metadata": {},
     "output_type": "execute_result"
    }
   ],
   "source": [
    "df_mod.head()"
   ]
  },
  {
   "cell_type": "code",
   "execution_count": 9,
   "id": "bba2e468",
   "metadata": {
    "id": "bba2e468"
   },
   "outputs": [],
   "source": [
    "def classificarPatientHla():\n",
    "    for j in range(6): ## 6 novas colunas para patient_hla\n",
    "        lista = []\n",
    "        for i in range(len(df_mod['patient_hla'])): ## criação da nova coluna\n",
    "            patient_hla = df_mod['patient_hla'][i].split(',')\n",
    "            lista.append(','.join(patient_hla[j:j+2]))\n",
    "        print(len(lista))\n",
    "        break\n",
    "    return\n",
    "\n",
    "def classificarDonorHla(): # 9 novas colunas para donor_hla\n",
    "    for j in range(9): \n",
    "        lista = []\n",
    "        for i in range(len(df_mod['donor_hla'])): ## criação da nova coluna\n",
    "            donor_hla = df_mod['donor_hla'][i].split(',')\n",
    "            lista.append(','.join(donor_hla[j:j+2]))\n",
    "        print(len(lista))\n",
    "        break\n",
    "    return"
   ]
  },
  {
   "cell_type": "code",
   "execution_count": 10,
   "id": "f410cb05",
   "metadata": {
    "colab": {
     "base_uri": "https://localhost:8080/"
    },
    "id": "f410cb05",
    "outputId": "4e1bad83-313d-4afd-e1ca-5d8e06e96c71"
   },
   "outputs": [
    {
     "name": "stdout",
     "output_type": "stream",
     "text": [
      "942\n",
      "942\n"
     ]
    }
   ],
   "source": [
    "classificarPatientHla()\n",
    "classificarDonorHla()"
   ]
  },
  {
   "cell_type": "code",
   "execution_count": 11,
   "id": "1c338cda",
   "metadata": {
    "id": "1c338cda"
   },
   "outputs": [],
   "source": [
    "def pares(iterable):\n",
    "    a = iter(iterable)\n",
    "    return zip(a, a)"
   ]
  },
  {
   "cell_type": "code",
   "execution_count": 12,
   "id": "f1c65f68",
   "metadata": {
    "id": "f1c65f68"
   },
   "outputs": [],
   "source": [
    "for x in range(6):\n",
    "    df_mod['patient_hla'+str(x)] = \" \"\n",
    "    \n",
    "for x in range(9):\n",
    "    df_mod['donor_hla'+str(x)] = \" \"    "
   ]
  },
  {
   "cell_type": "code",
   "execution_count": 13,
   "id": "2944247b",
   "metadata": {
    "colab": {
     "base_uri": "https://localhost:8080/",
     "height": 300
    },
    "id": "2944247b",
    "outputId": "e6895231-014b-44b0-a45a-37e7c52385bd"
   },
   "outputs": [
    {
     "data": {
      "text/html": [
       "<div>\n",
       "<style scoped>\n",
       "    .dataframe tbody tr th:only-of-type {\n",
       "        vertical-align: middle;\n",
       "    }\n",
       "\n",
       "    .dataframe tbody tr th {\n",
       "        vertical-align: top;\n",
       "    }\n",
       "\n",
       "    .dataframe thead th {\n",
       "        text-align: right;\n",
       "    }\n",
       "</style>\n",
       "<table border=\"1\" class=\"dataframe\">\n",
       "  <thead>\n",
       "    <tr style=\"text-align: right;\">\n",
       "      <th></th>\n",
       "      <th>id</th>\n",
       "      <th>donor_id</th>\n",
       "      <th>donor_hla</th>\n",
       "      <th>patient_id</th>\n",
       "      <th>patient_cpra</th>\n",
       "      <th>patient_hla</th>\n",
       "      <th>patient_single_cl1</th>\n",
       "      <th>patient_single_cl2</th>\n",
       "      <th>patient_mixed_cl1</th>\n",
       "      <th>patient_mixed_cl2</th>\n",
       "      <th>...</th>\n",
       "      <th>patient_hla5</th>\n",
       "      <th>donor_hla0</th>\n",
       "      <th>donor_hla1</th>\n",
       "      <th>donor_hla2</th>\n",
       "      <th>donor_hla3</th>\n",
       "      <th>donor_hla4</th>\n",
       "      <th>donor_hla5</th>\n",
       "      <th>donor_hla6</th>\n",
       "      <th>donor_hla7</th>\n",
       "      <th>donor_hla8</th>\n",
       "    </tr>\n",
       "  </thead>\n",
       "  <tbody>\n",
       "    <tr>\n",
       "      <th>0</th>\n",
       "      <td>558716</td>\n",
       "      <td>308155-126</td>\n",
       "      <td>A*03:01,A*80:01,B*35:03,B*44:03,CW*04:01,CW*04...</td>\n",
       "      <td>71334-2660</td>\n",
       "      <td>91</td>\n",
       "      <td>A*29:02,A*30:02,B*51:01,B*58:01,DRB1*13:01,DRB...</td>\n",
       "      <td>0</td>\n",
       "      <td>0</td>\n",
       "      <td>1</td>\n",
       "      <td>1</td>\n",
       "      <td>...</td>\n",
       "      <td></td>\n",
       "      <td></td>\n",
       "      <td></td>\n",
       "      <td></td>\n",
       "      <td></td>\n",
       "      <td></td>\n",
       "      <td></td>\n",
       "      <td></td>\n",
       "      <td></td>\n",
       "      <td></td>\n",
       "    </tr>\n",
       "    <tr>\n",
       "      <th>1</th>\n",
       "      <td>558658</td>\n",
       "      <td>308155-126</td>\n",
       "      <td>A*03:01,A*80:01,B*35:03,B*44:03,CW*04:01,CW*04...</td>\n",
       "      <td>205670-2660</td>\n",
       "      <td>75</td>\n",
       "      <td>A*02:01,A*02:01,B*15:16,B*40:04,DRB1*07:01,DRB...</td>\n",
       "      <td>1</td>\n",
       "      <td>1</td>\n",
       "      <td>-</td>\n",
       "      <td>-</td>\n",
       "      <td>...</td>\n",
       "      <td></td>\n",
       "      <td></td>\n",
       "      <td></td>\n",
       "      <td></td>\n",
       "      <td></td>\n",
       "      <td></td>\n",
       "      <td></td>\n",
       "      <td></td>\n",
       "      <td></td>\n",
       "      <td></td>\n",
       "    </tr>\n",
       "    <tr>\n",
       "      <th>2</th>\n",
       "      <td>558657</td>\n",
       "      <td>308155-126</td>\n",
       "      <td>A*03:01,A*80:01,B*35:03,B*44:03,CW*04:01,CW*04...</td>\n",
       "      <td>233572-2660</td>\n",
       "      <td>18</td>\n",
       "      <td>A*03:01,A*23:01,B*07:02,B*07:05,DRB1*07:01,DRB...</td>\n",
       "      <td>2</td>\n",
       "      <td>2</td>\n",
       "      <td>1</td>\n",
       "      <td>0</td>\n",
       "      <td>...</td>\n",
       "      <td></td>\n",
       "      <td></td>\n",
       "      <td></td>\n",
       "      <td></td>\n",
       "      <td></td>\n",
       "      <td></td>\n",
       "      <td></td>\n",
       "      <td></td>\n",
       "      <td></td>\n",
       "      <td></td>\n",
       "    </tr>\n",
       "    <tr>\n",
       "      <th>3</th>\n",
       "      <td>558656</td>\n",
       "      <td>308155-126</td>\n",
       "      <td>A*03:01,A*80:01,B*35:03,B*44:03,CW*04:01,CW*04...</td>\n",
       "      <td>235844-2660</td>\n",
       "      <td>0</td>\n",
       "      <td>A*02:01,A*30:02,B*35:01,B*45:01,DRB1*07:01,DRB...</td>\n",
       "      <td>3</td>\n",
       "      <td>2</td>\n",
       "      <td>0</td>\n",
       "      <td>0</td>\n",
       "      <td>...</td>\n",
       "      <td></td>\n",
       "      <td></td>\n",
       "      <td></td>\n",
       "      <td></td>\n",
       "      <td></td>\n",
       "      <td></td>\n",
       "      <td></td>\n",
       "      <td></td>\n",
       "      <td></td>\n",
       "      <td></td>\n",
       "    </tr>\n",
       "    <tr>\n",
       "      <th>4</th>\n",
       "      <td>558655</td>\n",
       "      <td>308155-126</td>\n",
       "      <td>A*03:01,A*80:01,B*35:03,B*44:03,CW*04:01,CW*04...</td>\n",
       "      <td>242776-2660</td>\n",
       "      <td>0</td>\n",
       "      <td>A*03:01,A*23:01,B*35:01,B*45:01,DRB1*01:01,DRB...</td>\n",
       "      <td>3</td>\n",
       "      <td>2</td>\n",
       "      <td>0</td>\n",
       "      <td>0</td>\n",
       "      <td>...</td>\n",
       "      <td></td>\n",
       "      <td></td>\n",
       "      <td></td>\n",
       "      <td></td>\n",
       "      <td></td>\n",
       "      <td></td>\n",
       "      <td></td>\n",
       "      <td></td>\n",
       "      <td></td>\n",
       "      <td></td>\n",
       "    </tr>\n",
       "  </tbody>\n",
       "</table>\n",
       "<p>5 rows × 27 columns</p>\n",
       "</div>"
      ],
      "text/plain": [
       "       id    donor_id                                          donor_hla  \\\n",
       "0  558716  308155-126  A*03:01,A*80:01,B*35:03,B*44:03,CW*04:01,CW*04...   \n",
       "1  558658  308155-126  A*03:01,A*80:01,B*35:03,B*44:03,CW*04:01,CW*04...   \n",
       "2  558657  308155-126  A*03:01,A*80:01,B*35:03,B*44:03,CW*04:01,CW*04...   \n",
       "3  558656  308155-126  A*03:01,A*80:01,B*35:03,B*44:03,CW*04:01,CW*04...   \n",
       "4  558655  308155-126  A*03:01,A*80:01,B*35:03,B*44:03,CW*04:01,CW*04...   \n",
       "\n",
       "    patient_id  patient_cpra  \\\n",
       "0   71334-2660            91   \n",
       "1  205670-2660            75   \n",
       "2  233572-2660            18   \n",
       "3  235844-2660             0   \n",
       "4  242776-2660             0   \n",
       "\n",
       "                                         patient_hla patient_single_cl1  \\\n",
       "0  A*29:02,A*30:02,B*51:01,B*58:01,DRB1*13:01,DRB...                  0   \n",
       "1  A*02:01,A*02:01,B*15:16,B*40:04,DRB1*07:01,DRB...                  1   \n",
       "2  A*03:01,A*23:01,B*07:02,B*07:05,DRB1*07:01,DRB...                  2   \n",
       "3  A*02:01,A*30:02,B*35:01,B*45:01,DRB1*07:01,DRB...                  3   \n",
       "4  A*03:01,A*23:01,B*35:01,B*45:01,DRB1*01:01,DRB...                  3   \n",
       "\n",
       "  patient_single_cl2 patient_mixed_cl1 patient_mixed_cl2  ... patient_hla5  \\\n",
       "0                  0                 1                 1  ...                \n",
       "1                  1                 -                 -  ...                \n",
       "2                  2                 1                 0  ...                \n",
       "3                  2                 0                 0  ...                \n",
       "4                  2                 0                 0  ...                \n",
       "\n",
       "   donor_hla0 donor_hla1 donor_hla2 donor_hla3 donor_hla4 donor_hla5  \\\n",
       "0                                                                      \n",
       "1                                                                      \n",
       "2                                                                      \n",
       "3                                                                      \n",
       "4                                                                      \n",
       "\n",
       "  donor_hla6 donor_hla7 donor_hla8  \n",
       "0                                   \n",
       "1                                   \n",
       "2                                   \n",
       "3                                   \n",
       "4                                   \n",
       "\n",
       "[5 rows x 27 columns]"
      ]
     },
     "execution_count": 13,
     "metadata": {},
     "output_type": "execute_result"
    }
   ],
   "source": [
    "df_mod.head()"
   ]
  },
  {
   "cell_type": "code",
   "execution_count": 14,
   "id": "6a289ce7",
   "metadata": {
    "id": "6a289ce7"
   },
   "outputs": [],
   "source": [
    "import time"
   ]
  },
  {
   "cell_type": "code",
   "execution_count": 15,
   "id": "f88756ec",
   "metadata": {
    "id": "f88756ec"
   },
   "outputs": [],
   "source": [
    "def dividir_patient_hla(j):\n",
    "    transform = []\n",
    "    for i in range(len(df_mod)):\n",
    "        patient_hla = df_mod['patient_hla'][i].split(\",\")\n",
    "        \n",
    "        if len(patient_hla) < 12:\n",
    "            for z in range(12 - len(patient_hla)):\n",
    "                patient_hla.append(\"-\")\n",
    "                \n",
    "        for x, y in pares(patient_hla):\n",
    "            transform.append([x,y])\n",
    "            \n",
    "        df_mod['patient_hla'+str(j)][i] = ','.join(transform[j])\n",
    "        transform = []"
   ]
  },
  {
   "cell_type": "code",
   "execution_count": 16,
   "id": "cc60339f",
   "metadata": {
    "id": "cc60339f"
   },
   "outputs": [],
   "source": [
    "def dividir_donor_hla(j):\n",
    "    transform = []\n",
    "    for i in range(len(df_mod)):\n",
    "        donor_hla = df_mod['donor_hla'][i].split(\",\")\n",
    "        \n",
    "        if len(donor_hla) < 18:\n",
    "            for z in range(18 - len(donor_hla)):\n",
    "                donor_hla.append(\"-\")\n",
    "                \n",
    "        for x, y in pares(donor_hla):\n",
    "            transform.append([x,y])\n",
    "            \n",
    "        df_mod['donor_hla'+str(j)][i] = ','.join(transform[j])\n",
    "        transform = []"
   ]
  },
  {
   "cell_type": "code",
   "execution_count": 17,
   "id": "782ff51e",
   "metadata": {
    "colab": {
     "base_uri": "https://localhost:8080/"
    },
    "id": "782ff51e",
    "outputId": "92df4f48-3f13-43b1-feed-f16583ca3c77"
   },
   "outputs": [
    {
     "name": "stderr",
     "output_type": "stream",
     "text": [
      "C:\\Users\\isac_\\AppData\\Local\\Temp\\ipykernel_26980\\1264221084.py:13: SettingWithCopyWarning: \n",
      "A value is trying to be set on a copy of a slice from a DataFrame\n",
      "\n",
      "See the caveats in the documentation: https://pandas.pydata.org/pandas-docs/stable/user_guide/indexing.html#returning-a-view-versus-a-copy\n",
      "  df_mod['patient_hla'+str(j)][i] = ','.join(transform[j])\n"
     ]
    }
   ],
   "source": [
    "for i in range(6): # vai de 0 a 5\n",
    "    dividir_patient_hla(i)"
   ]
  },
  {
   "cell_type": "code",
   "execution_count": null,
   "id": "2884f2ef",
   "metadata": {
    "colab": {
     "base_uri": "https://localhost:8080/"
    },
    "id": "2884f2ef",
    "outputId": "ab20def3-3a70-4b8d-fc89-08c80b3a4728"
   },
   "outputs": [
    {
     "name": "stderr",
     "output_type": "stream",
     "text": [
      "C:\\Users\\isac_\\AppData\\Local\\Temp\\ipykernel_26980\\4112756189.py:13: SettingWithCopyWarning: \n",
      "A value is trying to be set on a copy of a slice from a DataFrame\n",
      "\n",
      "See the caveats in the documentation: https://pandas.pydata.org/pandas-docs/stable/user_guide/indexing.html#returning-a-view-versus-a-copy\n",
      "  df_mod['donor_hla'+str(j)][i] = ','.join(transform[j])\n"
     ]
    }
   ],
   "source": [
    "for i in range(9): # vai de 0 a 8\n",
    "    dividir_donor_hla(i)"
   ]
  },
  {
   "cell_type": "code",
   "execution_count": null,
   "id": "0bbb2120",
   "metadata": {
    "id": "0bbb2120"
   },
   "outputs": [],
   "source": [
    "df_mod.drop('id', inplace=True, axis=1)\n",
    "df_mod.drop('donor_id', inplace=True, axis=1)\n",
    "df_mod.drop('patient_id', inplace=True, axis=1)\n",
    "df_mod.drop('patient_cpra', inplace=True, axis=1)\n",
    "df_mod.drop('patient_hla', inplace=True, axis=1)"
   ]
  },
  {
   "cell_type": "code",
   "execution_count": null,
   "id": "02fc978f",
   "metadata": {
    "id": "02fc978f"
   },
   "outputs": [],
   "source": [
    "df['patient_hla0'] = df['patient_hla0'].str.replace(',','/')\n",
    "df['patient_hla1'] = df['patient_hla1'].str.replace(',','/')\n",
    "df['patient_hla2'] = df['patient_hla2'].str.replace(',','/')\n",
    "df['patient_hla3'] = df['patient_hla3'].str.replace(',','/')\n",
    "df['patient_hla4'] = df['patient_hla4'].str.replace(',','/')\n",
    "df['patient_hla5'] = df['patient_hla5'].str.replace(',','/')\n",
    "\n",
    "for i in range(9):\n",
    "    df['donor_hla'+str(i)] = df['donor_hla'+str(i)].str.replace(',','/')"
   ]
  },
  {
   "cell_type": "code",
   "execution_count": null,
   "id": "05b8217a",
   "metadata": {
    "id": "05b8217a"
   },
   "outputs": [],
   "source": [
    "df_mod.drop('donor_hla', inplace=True, axis=1)"
   ]
  },
  {
   "cell_type": "code",
   "execution_count": null,
   "id": "4f485d21",
   "metadata": {
    "colab": {
     "base_uri": "https://localhost:8080/",
     "height": 300
    },
    "id": "4f485d21",
    "outputId": "d7c75138-8635-46ef-d5f4-169aed3d83a3"
   },
   "outputs": [],
   "source": [
    "df_mod.head()"
   ]
  },
  {
   "cell_type": "code",
   "execution_count": null,
   "id": "c577c7d5",
   "metadata": {
    "id": "c577c7d5"
   },
   "outputs": [],
   "source": [
    "df_mod = df_mod[['donor_hla0', 'donor_hla1', 'donor_hla2', 'donor_hla3', 'donor_hla4', 'donor_hla5', 'donor_hla6','donor_hla7','donor_hla8','patient_single_cl1', 'patient_single_cl2', 'patient_mixed_cl1', 'patient_mixed_cl2',\n",
    "                'epv_result', 'patient_hla0', 'patient_hla1', 'patient_hla2', 'patient_hla3', 'patient_hla4', 'patient_hla5',\n",
    "                'cdc_result']]"
   ]
  },
  {
   "cell_type": "code",
   "execution_count": null,
   "id": "5cd794b6",
   "metadata": {
    "id": "5cd794b6"
   },
   "outputs": [],
   "source": [
    "def classificarColunaDfMod(nome):\n",
    "    data_array = []\n",
    "    dict_dif_data = {}\n",
    "\n",
    "    for x in df_mod[nome]:\n",
    "        if x not in data_array:\n",
    "            if x == 'NaN':\n",
    "                continue\n",
    "            else:\n",
    "                data_array.append(x)\n",
    "    \n",
    "    count = 0\n",
    "    for x in data_array:\n",
    "        dict_dif_data[x] = count\n",
    "        count += 1\n",
    "    \n",
    "    for x in range(len(df[nome])):\n",
    "        if str(dict_dif_data[df_mod[nome][x]]) == 'nan':\n",
    "            continue\n",
    "        else:\n",
    "            df_mod[nome][x] = str(dict_dif_data[df_mod[nome][x]])"
   ]
  },
  {
   "cell_type": "code",
   "execution_count": null,
   "id": "0d31bfb7",
   "metadata": {
    "id": "0d31bfb7"
   },
   "outputs": [],
   "source": [
    "df_mod = df_mod[df_mod['patient_mixed_cl1'].str.contains(\"-\") == False]\n",
    "df_mod = df_mod[df_mod['patient_mixed_cl2'].str.contains(\"-\") == False]\n",
    "df_mod = df_mod[df_mod['patient_single_cl1'].str.contains(\"-\") == False]\n",
    "df_mod = df_mod[df_mod['patient_single_cl2'].str.contains(\"-\") == False]\n",
    "df_mod = df_mod[df_mod['epv_result'].str.contains(\"-\") == False]"
   ]
  },
  {
   "cell_type": "code",
   "execution_count": null,
   "id": "1c7419df",
   "metadata": {
    "id": "1c7419df"
   },
   "outputs": [],
   "source": [
    "df_mod['patient_single_cl1'] = df_mod['patient_single_cl1'].astype('int64')\n",
    "df_mod['patient_single_cl2'] = df_mod['patient_single_cl2'].astype('int64')\n",
    "df_mod['patient_mixed_cl1'] = df_mod['patient_mixed_cl1'].astype('int64')\n",
    "df_mod['patient_mixed_cl2'] = df_mod['patient_mixed_cl2'].astype('int64')\n",
    "df_mod['epv_result'] = df_mod['epv_result'].astype('int64')\n",
    "df_mod['cdc_result'] = df_mod['cdc_result'].astype('int64')"
   ]
  },
  {
   "cell_type": "code",
   "execution_count": null,
   "id": "32d55c7f",
   "metadata": {
    "id": "32d55c7f"
   },
   "outputs": [],
   "source": [
    "def unique(list1):\n",
    "      \n",
    "    # insert the list to the set\n",
    "    list_set = set(df_mod[list1])\n",
    "    # convert the set to the list\n",
    "    unique_list = (list(list_set))\n",
    "    \n",
    "    return unique_list"
   ]
  },
  {
   "cell_type": "code",
   "execution_count": null,
   "id": "4569773f",
   "metadata": {
    "id": "4569773f"
   },
   "outputs": [],
   "source": [
    "donor_hla0 = unique('donor_hla0')\n",
    "donor_hla1 = unique('donor_hla1')\n",
    "donor_hla2 = unique('donor_hla2')\n",
    "donor_hla3 = unique('donor_hla3')\n",
    "donor_hla4 = unique('donor_hla4')\n",
    "donor_hla5 = unique('donor_hla5')\n",
    "donor_hla6 = unique('donor_hla6')\n",
    "donor_hla7 = unique('donor_hla7')\n",
    "donor_hla8 = unique('donor_hla8')\n",
    "patient_single_cl1 = unique('patient_single_cl1')\n",
    "patient_single_cl2 = unique('patient_single_cl2')\n",
    "patient_mixed_cl1 = unique('patient_mixed_cl1')\n",
    "patient_mixed_cl2 = unique('patient_mixed_cl2')\n",
    "epv_result = unique('epv_result')\n",
    "cdc_result = unique('cdc_result')"
   ]
  },
  {
   "cell_type": "code",
   "execution_count": null,
   "id": "ce4a3a53",
   "metadata": {
    "id": "ce4a3a53"
   },
   "outputs": [],
   "source": [
    "patient_hla0 = unique('patient_hla0')\n",
    "patient_hla1 = unique('patient_hla1')\n",
    "patient_hla2 = unique('patient_hla2')\n",
    "patient_hla3 = unique('patient_hla3')\n",
    "patient_hla4 = unique('patient_hla4')\n",
    "patient_hla5 = unique('patient_hla5')"
   ]
  },
  {
   "cell_type": "code",
   "execution_count": null,
   "id": "88fcae0d",
   "metadata": {
    "id": "88fcae0d"
   },
   "outputs": [],
   "source": []
  },
  {
   "cell_type": "code",
   "execution_count": null,
   "id": "9f46f7f0",
   "metadata": {
    "colab": {
     "base_uri": "https://localhost:8080/",
     "height": 456
    },
    "id": "9f46f7f0",
    "outputId": "a3697beb-4459-49de-ea7d-420e4bf6fcc0"
   },
   "outputs": [],
   "source": [
    "df_mod.head(10)"
   ]
  },
  {
   "cell_type": "code",
   "execution_count": null,
   "id": "599c9962",
   "metadata": {
    "id": "599c9962"
   },
   "outputs": [],
   "source": [
    "#temp_df = []\n",
    "#for row in df_mod.itertuples(index=False):\n",
    "#    if row.cdc_result:\n",
    "#        temp_df.extend([list(row)]*2) ## duplicar/triplicar o número de linhas com 1 para rearranjar o data frame\n",
    "#    else:\n",
    "#        temp_df.append(list(row))\n",
    "\n",
    "#df_mod = pd.DataFrame(temp_df, columns=df_mod.columns)"
   ]
  },
  {
   "cell_type": "code",
   "execution_count": null,
   "id": "c5398439",
   "metadata": {
    "colab": {
     "base_uri": "https://localhost:8080/",
     "height": 488
    },
    "id": "c5398439",
    "outputId": "3859610d-f638-4230-bcf8-54d5e6fec09b"
   },
   "outputs": [],
   "source": [
    "df_mod"
   ]
  },
  {
   "cell_type": "code",
   "execution_count": null,
   "id": "7504ecaa",
   "metadata": {
    "id": "7504ecaa"
   },
   "outputs": [],
   "source": [
    "count0 = (df_mod['cdc_result'] == 0).sum()\n",
    "count1 = (df_mod['cdc_result'] == 1).sum()"
   ]
  },
  {
   "cell_type": "code",
   "execution_count": null,
   "id": "93ac22e8",
   "metadata": {
    "id": "93ac22e8"
   },
   "outputs": [],
   "source": [
    "df_mod = pd.get_dummies(df_mod)"
   ]
  },
  {
   "cell_type": "code",
   "execution_count": null,
   "id": "67ab122a",
   "metadata": {
    "colab": {
     "base_uri": "https://localhost:8080/",
     "height": 300
    },
    "id": "67ab122a",
    "outputId": "d74fe725-9b49-40cb-da36-fafc6609b95b"
   },
   "outputs": [],
   "source": [
    "df_mod.head(5)"
   ]
  },
  {
   "cell_type": "code",
   "execution_count": null,
   "id": "8072a052",
   "metadata": {
    "id": "8072a052"
   },
   "outputs": [],
   "source": [
    "from sklearn.model_selection import train_test_split\n",
    "from sklearn.utils import resample,shuffle\n",
    "\n",
    "#labels = df_mod['cdc_result']\n",
    "#df_mod = df_mod.drop('cdc_result', axis = 1)\n",
    "#feature_list = list(df_mod.columns)\n",
    "\n",
    "#X_train, X_test, y_train, y_test = train_test_split(df_mod, labels, test_size = 0.30, random_state = 42)"
   ]
  },
  {
   "cell_type": "code",
   "execution_count": null,
   "id": "51240dd9",
   "metadata": {
    "id": "51240dd9"
   },
   "outputs": [],
   "source": [
    "#print('Training Features Shape:', X_train.shape)\n",
    "#print('Training Labels Shape:', y_train.shape)\n",
    "#print('Testing Features Shape:', X_test.shape)\n",
    "#print('Testing Labels Shape:', y_test.shape)"
   ]
  },
  {
   "cell_type": "code",
   "execution_count": null,
   "id": "ddcbddfa",
   "metadata": {
    "colab": {
     "base_uri": "https://localhost:8080/"
    },
    "id": "ddcbddfa",
    "outputId": "cad08269-6eb1-403f-97c9-878bcffc25e2"
   },
   "outputs": [],
   "source": [
    "count_class_0, count_class_1 = df_mod.cdc_result.value_counts()\n",
    "\n",
    "df_class_0 = df_mod[df_mod['cdc_result'] == 0]\n",
    "df_class_1 = df_mod[df_mod['cdc_result'] == 1]\n",
    "\n",
    "df_class_0_under = df_class_0.sample(count_class_1)\n",
    "df_test_under = pd.concat([df_class_0_under, df_class_1], axis=0)\n",
    "\n",
    "df_1_upsampled = resample(df_class_1, random_state=42, n_samples=len(df_class_0), replace=True)\n",
    "df_upsampled = pd.concat([df_1_upsampled, df_class_0])\n",
    "df_upsampled.cdc_result.value_counts()"
   ]
  },
  {
   "cell_type": "code",
   "execution_count": null,
   "id": "cd78cc6c",
   "metadata": {
    "colab": {
     "base_uri": "https://localhost:8080/",
     "height": 488
    },
    "id": "cd78cc6c",
    "outputId": "c9692585-087f-412f-905c-69b42541d1bb"
   },
   "outputs": [],
   "source": [
    "df_upsampled"
   ]
  },
  {
   "cell_type": "code",
   "execution_count": null,
   "id": "0cdf1c97",
   "metadata": {
    "id": "0cdf1c97"
   },
   "outputs": [],
   "source": [
    "labels = df_upsampled['cdc_result'].to_numpy()\n",
    "df_upsampled = df_upsampled.drop('cdc_result', axis = 1).to_numpy()\n",
    "\n",
    "X_train, X_test, y_train, y_test = train_test_split(df_upsampled, labels, test_size = 0.40, random_state = 42)"
   ]
  },
  {
   "cell_type": "code",
   "execution_count": null,
   "id": "62068ba2",
   "metadata": {
    "colab": {
     "base_uri": "https://localhost:8080/"
    },
    "id": "62068ba2",
    "outputId": "14f6519e-f160-4689-e1f7-89d54245608a"
   },
   "outputs": [],
   "source": [
    "print('Training Features Shape:', X_train.shape)\n",
    "print('Training Labels Shape:', y_train.shape)\n",
    "print('Testing Features Shape:', X_test.shape)\n",
    "print('Testing Labels Shape:', y_test.shape)"
   ]
  },
  {
   "cell_type": "code",
   "execution_count": null,
   "id": "52b9879c",
   "metadata": {
    "id": "52b9879c"
   },
   "outputs": [],
   "source": [
    "#y = df_upsampled.cdc_result\n",
    "#X = df_upsampled.drop('cdc_result', axis=1)"
   ]
  },
  {
   "cell_type": "code",
   "execution_count": null,
   "id": "Sa1OKOWO7V4x",
   "metadata": {
    "id": "Sa1OKOWO7V4x"
   },
   "outputs": [],
   "source": [
    "import tensorflow.compat.v1 as tf\n",
    "tf.disable_v2_behavior()\n",
    "import matplotlib.pyplot as plt\n",
    "import seaborn as sns\n",
    "from sklearn.preprocessing import MinMaxScaler, Normalizer\n",
    "from sklearn.decomposition import PCA as sklearnPCA"
   ]
  },
  {
   "cell_type": "code",
   "execution_count": null,
   "id": "MK-fekir8Z7p",
   "metadata": {
    "id": "MK-fekir8Z7p"
   },
   "outputs": [],
   "source": [
    "enter = list(X_train[0].shape)[0]\n"
   ]
  },
  {
   "cell_type": "code",
   "execution_count": null,
   "id": "6ug2xf89GQN5",
   "metadata": {
    "id": "6ug2xf89GQN5"
   },
   "outputs": [],
   "source": [
    "import numpy as np\n",
    "import random"
   ]
  },
  {
   "cell_type": "code",
   "execution_count": null,
   "id": "WcaK71xSF9KF",
   "metadata": {
    "id": "WcaK71xSF9KF"
   },
   "outputs": [],
   "source": [
    "y_train = np.expand_dims(y_train,axis=-1)\n",
    "y_test = np.expand_dims(y_test,axis=-1)"
   ]
  },
  {
   "cell_type": "code",
   "execution_count": null,
   "id": "bWstzYxs71tq",
   "metadata": {
    "colab": {
     "base_uri": "https://localhost:8080/",
     "height": 1000
    },
    "id": "bWstzYxs71tq",
    "outputId": "2a7644a2-8ebc-4821-de6a-5281524a962d"
   },
   "outputs": [],
   "source": [
    "\n",
    "print(\"===========Data Summary===========\")\n",
    "print(\"Training Data :\", X_train.shape)\n",
    "print(\"Testing Data :\", X_test.shape)\n",
    "\n",
    "seeds = []\n",
    "accur = []\n",
    "\n",
    "for i in range(10000):\n",
    "  my_seed = random.randint(0, 12000)\n",
    "  stop = []\n",
    "  print(\"=========== RUN \" + str(i) + \"=================================================\")\n",
    "  X = tf.placeholder(tf.float32, [None, 1587])\n",
    "  Y = tf.placeholder(tf.float32, [None, 1])\n",
    "\n",
    "  #INPUT\n",
    "  W1 = tf.Variable(tf.random_normal([1587,60], seed=my_seed), name='weight1')\n",
    "  b1 = tf.Variable(tf.random_normal([60], seed=my_seed), name='bias1')\n",
    "  layer1 = tf.nn.sigmoid(tf.matmul(X,W1) + b1)\n",
    "\n",
    "  #HIDDEN 1\n",
    "  W2 = tf.Variable(tf.random_normal([60,60], seed=my_seed), name='weight2')\n",
    "  b2 = tf.Variable(tf.random_normal([60], seed=my_seed), name='bias2')\n",
    "  layer2 = tf.nn.sigmoid(tf.matmul(layer1,W2) + b2)\n",
    "\n",
    "  #HIDDEN 2\n",
    "  W3 = tf.Variable(tf.random_normal([60,90], seed=my_seed), name='weight3')\n",
    "  b3 = tf.Variable(tf.random_normal([90], seed=my_seed), name='bias3')\n",
    "  layer3 = tf.nn.sigmoid(tf.matmul(layer2,W3) + b3)\n",
    "\n",
    "  # output\n",
    "  W4 = tf.Variable(tf.random_normal([90,1], seed=my_seed), name='weight4')\n",
    "  b4 = tf.Variable(tf.random_normal([1], seed=my_seed), name='bias4')\n",
    "\n",
    "  logits = tf.matmul(layer3,W4) + b4\n",
    "  hypothesis = tf.nn.sigmoid(logits)\n",
    "\n",
    "\n",
    "  cost_i = tf.nn.sigmoid_cross_entropy_with_logits(logits=logits,labels=Y)\n",
    "  cost = tf.reduce_mean(cost_i)\n",
    "\n",
    "  train = tf.train.GradientDescentOptimizer(learning_rate=0.001).minimize(cost)\n",
    "\n",
    "  prediction = tf.cast(hypothesis > 0.5, dtype=tf.float32)\n",
    "  correct_prediction = tf.equal(prediction, Y)\n",
    "  accuracy = tf.reduce_mean(tf.cast(correct_prediction, dtype=tf.float32))\n",
    "\n",
    "  print(\"\\n============Processing============\")\n",
    "  with tf.Session() as sess:\n",
    "      sess.run(tf.global_variables_initializer())\n",
    "      for step in range(500001):\n",
    "          sess.run(train, feed_dict={X: X_train, Y: y_train})\n",
    "          if step % 100 == 0:\n",
    "              loss, acc = sess.run([cost, accuracy], feed_dict={X: X_train, Y: y_train})\n",
    "              stop.append(acc)\n",
    "              if len(stop) == 3:\n",
    "                #if stop[2] - stop[1] <= 0.0005 and stop[2] - stop[0] <= 0.001:\n",
    "                if stop[1] + 0.0005 >= stop[2] and stop[1] - 0.0005 <= stop[0]:\n",
    "                  print('==== EARLY STOP ====')\n",
    "                  break\n",
    "                else:\n",
    "                  stop = []\n",
    "\n",
    "              print(\"Step: {:5}\\tLoss: {:.3f}\\tAcc: {:.5%}\".format(step, loss, acc))\n",
    "\n",
    "      train_acc = sess.run(accuracy, feed_dict={X: X_train, Y: y_train})\n",
    "      test_acc,test_predict,test_correct = sess.run([accuracy,prediction,correct_prediction], feed_dict={X: X_test, Y: y_test})\n",
    "\n",
    "      tupla = (train_acc*100, my_seed)\n",
    "      accur.append(tupla)\n",
    "      print(\"\\n============Results============\")\n",
    "      print(\"Model Prediction =\", train_acc)\n",
    "      print(\"Test Prediction =\", test_acc)\n",
    "\n",
    "print(\"\\n============Final Results============\")\n",
    "print(\"Model Prediction + Seed =\", max(accur))"
   ]
  },
  {
   "cell_type": "code",
   "execution_count": null,
   "id": "Hdvfxykb200w",
   "metadata": {
    "id": "Hdvfxykb200w"
   },
   "outputs": [],
   "source": []
  }
 ],
 "metadata": {
  "colab": {
   "collapsed_sections": [],
   "name": "Cópia de Preprocesso_dados_IC_colab.ipynb",
   "provenance": []
  },
  "kernelspec": {
   "display_name": "Python 3 (ipykernel)",
   "language": "python",
   "name": "python3"
  },
  "language_info": {
   "codemirror_mode": {
    "name": "ipython",
    "version": 3
   },
   "file_extension": ".py",
   "mimetype": "text/x-python",
   "name": "python",
   "nbconvert_exporter": "python",
   "pygments_lexer": "ipython3",
   "version": "3.9.12"
  }
 },
 "nbformat": 4,
 "nbformat_minor": 5
}
