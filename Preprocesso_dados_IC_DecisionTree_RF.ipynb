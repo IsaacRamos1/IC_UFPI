{
 "cells": [
  {
   "cell_type": "code",
   "execution_count": 1,
   "id": "29fa2025",
   "metadata": {
    "id": "b3ae055c"
   },
   "outputs": [],
   "source": [
    "import pandas as pd"
   ]
  },
  {
   "cell_type": "code",
   "execution_count": 2,
   "id": "d8fb8467",
   "metadata": {
    "id": "bab67c0b"
   },
   "outputs": [],
   "source": [
    "df = pd.read_csv('allvixm-val-data.csv', sep=';')"
   ]
  },
  {
   "cell_type": "code",
   "execution_count": 3,
   "id": "b9bceb85",
   "metadata": {
    "colab": {
     "base_uri": "https://localhost:8080/",
     "height": 601
    },
    "id": "dd09a967",
    "outputId": "44a7af8d-4dd8-4ca1-e94a-1e39ef7e2df2",
    "scrolled": false
   },
   "outputs": [
    {
     "data": {
      "text/html": [
       "<div>\n",
       "<style scoped>\n",
       "    .dataframe tbody tr th:only-of-type {\n",
       "        vertical-align: middle;\n",
       "    }\n",
       "\n",
       "    .dataframe tbody tr th {\n",
       "        vertical-align: top;\n",
       "    }\n",
       "\n",
       "    .dataframe thead th {\n",
       "        text-align: right;\n",
       "    }\n",
       "</style>\n",
       "<table border=\"1\" class=\"dataframe\">\n",
       "  <thead>\n",
       "    <tr style=\"text-align: right;\">\n",
       "      <th></th>\n",
       "      <th>id</th>\n",
       "      <th>donor_id</th>\n",
       "      <th>donor_hla</th>\n",
       "      <th>patient_id</th>\n",
       "      <th>patient_cpra</th>\n",
       "      <th>patient_hla</th>\n",
       "      <th>patient_single_cl1</th>\n",
       "      <th>patient_single_cl2</th>\n",
       "      <th>patient_mixed_cl1</th>\n",
       "      <th>patient_mixed_cl2</th>\n",
       "      <th>epv_result</th>\n",
       "      <th>cdc_result</th>\n",
       "    </tr>\n",
       "  </thead>\n",
       "  <tbody>\n",
       "    <tr>\n",
       "      <th>0</th>\n",
       "      <td>558716</td>\n",
       "      <td>308155-126</td>\n",
       "      <td>A*03:01,A*80:01,B*35:03,B*44:03,CW*04:01,CW*04...</td>\n",
       "      <td>71334-2660</td>\n",
       "      <td>91</td>\n",
       "      <td>A*29:02,A*30:02,B*51:01,B*58:01,DRB1*13:01,DRB...</td>\n",
       "      <td>A*01:01,A*02:01,A*02:03,A*02:06,A*11:01,A*11:0...</td>\n",
       "      <td>DPB1*01:01,DPB1*05:01,DPB1*03:01,DPB1*06:01,DP...</td>\n",
       "      <td>1</td>\n",
       "      <td>1</td>\n",
       "      <td>0</td>\n",
       "      <td>0</td>\n",
       "    </tr>\n",
       "    <tr>\n",
       "      <th>1</th>\n",
       "      <td>558658</td>\n",
       "      <td>308155-126</td>\n",
       "      <td>A*03:01,A*80:01,B*35:03,B*44:03,CW*04:01,CW*04...</td>\n",
       "      <td>205670-2660</td>\n",
       "      <td>75</td>\n",
       "      <td>A*02:01,A*02:01,B*15:16,B*40:04,DRB1*07:01,DRB...</td>\n",
       "      <td>A*01:01,A*23:01,A*24:02,A*24:03,A*80:01</td>\n",
       "      <td>DRB1*13:03,DRB1*12:02,DRB1*14:54,DRB1*14:01,DR...</td>\n",
       "      <td>-</td>\n",
       "      <td>-</td>\n",
       "      <td>1</td>\n",
       "      <td>0</td>\n",
       "    </tr>\n",
       "    <tr>\n",
       "      <th>2</th>\n",
       "      <td>558657</td>\n",
       "      <td>308155-126</td>\n",
       "      <td>A*03:01,A*80:01,B*35:03,B*44:03,CW*04:01,CW*04...</td>\n",
       "      <td>233572-2660</td>\n",
       "      <td>18</td>\n",
       "      <td>A*03:01,A*23:01,B*07:02,B*07:05,DRB1*07:01,DRB...</td>\n",
       "      <td>B*35:01,B*51:01,B*53:01,B*78:01</td>\n",
       "      <td>-</td>\n",
       "      <td>1</td>\n",
       "      <td>0</td>\n",
       "      <td>1</td>\n",
       "      <td>1</td>\n",
       "    </tr>\n",
       "    <tr>\n",
       "      <th>3</th>\n",
       "      <td>558656</td>\n",
       "      <td>308155-126</td>\n",
       "      <td>A*03:01,A*80:01,B*35:03,B*44:03,CW*04:01,CW*04...</td>\n",
       "      <td>235844-2660</td>\n",
       "      <td>0</td>\n",
       "      <td>A*02:01,A*30:02,B*35:01,B*45:01,DRB1*07:01,DRB...</td>\n",
       "      <td>-</td>\n",
       "      <td>-</td>\n",
       "      <td>0</td>\n",
       "      <td>0</td>\n",
       "      <td>-</td>\n",
       "      <td>0</td>\n",
       "    </tr>\n",
       "    <tr>\n",
       "      <th>4</th>\n",
       "      <td>558655</td>\n",
       "      <td>308155-126</td>\n",
       "      <td>A*03:01,A*80:01,B*35:03,B*44:03,CW*04:01,CW*04...</td>\n",
       "      <td>242776-2660</td>\n",
       "      <td>0</td>\n",
       "      <td>A*03:01,A*23:01,B*35:01,B*45:01,DRB1*01:01,DRB...</td>\n",
       "      <td>-</td>\n",
       "      <td>-</td>\n",
       "      <td>0</td>\n",
       "      <td>0</td>\n",
       "      <td>-</td>\n",
       "      <td>0</td>\n",
       "    </tr>\n",
       "    <tr>\n",
       "      <th>5</th>\n",
       "      <td>558654</td>\n",
       "      <td>308155-126</td>\n",
       "      <td>A*03:01,A*80:01,B*35:03,B*44:03,CW*04:01,CW*04...</td>\n",
       "      <td>235944-2660</td>\n",
       "      <td>49</td>\n",
       "      <td>A*02:01,A*74:01,B*35:01,B*50:01,DRB1*07:01,DRB...</td>\n",
       "      <td>A*23:01,A*24:02,A*24:03,A*25:01,A*29:01,B*27:0...</td>\n",
       "      <td>DRB1*03:01,DRB1*03:02,DRB1*08:01,DRB1*11:01,DR...</td>\n",
       "      <td>-</td>\n",
       "      <td>-</td>\n",
       "      <td>1</td>\n",
       "      <td>1</td>\n",
       "    </tr>\n",
       "    <tr>\n",
       "      <th>6</th>\n",
       "      <td>558653</td>\n",
       "      <td>308155-126</td>\n",
       "      <td>A*03:01,A*80:01,B*35:03,B*44:03,CW*04:01,CW*04...</td>\n",
       "      <td>234324-2660</td>\n",
       "      <td>0</td>\n",
       "      <td>A*29:02,A*68:01,B*35:01,B*35:01,DRB1*07:01,DRB...</td>\n",
       "      <td>-</td>\n",
       "      <td>-</td>\n",
       "      <td>0</td>\n",
       "      <td>0</td>\n",
       "      <td>-</td>\n",
       "      <td>0</td>\n",
       "    </tr>\n",
       "    <tr>\n",
       "      <th>7</th>\n",
       "      <td>558652</td>\n",
       "      <td>308155-126</td>\n",
       "      <td>A*03:01,A*80:01,B*35:03,B*44:03,CW*04:01,CW*04...</td>\n",
       "      <td>237374-2660</td>\n",
       "      <td>0</td>\n",
       "      <td>A*02:01,A*30:02,B*07:02,B*44:02,DRB1*07:01,DRB...</td>\n",
       "      <td>-</td>\n",
       "      <td>-</td>\n",
       "      <td>0</td>\n",
       "      <td>0</td>\n",
       "      <td>-</td>\n",
       "      <td>0</td>\n",
       "    </tr>\n",
       "    <tr>\n",
       "      <th>8</th>\n",
       "      <td>558651</td>\n",
       "      <td>308155-126</td>\n",
       "      <td>A*03:01,A*80:01,B*35:03,B*44:03,CW*04:01,CW*04...</td>\n",
       "      <td>213948-2660</td>\n",
       "      <td>6</td>\n",
       "      <td>A*02:01,A*23:01,B*41:01,B*44:03,DRB1*07:01,DRB...</td>\n",
       "      <td>NaN</td>\n",
       "      <td>-</td>\n",
       "      <td>1</td>\n",
       "      <td>0</td>\n",
       "      <td>0</td>\n",
       "      <td>0</td>\n",
       "    </tr>\n",
       "    <tr>\n",
       "      <th>9</th>\n",
       "      <td>558649</td>\n",
       "      <td>308155-126</td>\n",
       "      <td>A*03:01,A*80:01,B*35:03,B*44:03,CW*04:01,CW*04...</td>\n",
       "      <td>217269-2660</td>\n",
       "      <td>0</td>\n",
       "      <td>A*24:02,A*29:02,B*44:03,B*50:01,DRB1*07:01,DRB...</td>\n",
       "      <td>-</td>\n",
       "      <td>-</td>\n",
       "      <td>0</td>\n",
       "      <td>0</td>\n",
       "      <td>-</td>\n",
       "      <td>0</td>\n",
       "    </tr>\n",
       "  </tbody>\n",
       "</table>\n",
       "</div>"
      ],
      "text/plain": [
       "       id    donor_id                                          donor_hla  \\\n",
       "0  558716  308155-126  A*03:01,A*80:01,B*35:03,B*44:03,CW*04:01,CW*04...   \n",
       "1  558658  308155-126  A*03:01,A*80:01,B*35:03,B*44:03,CW*04:01,CW*04...   \n",
       "2  558657  308155-126  A*03:01,A*80:01,B*35:03,B*44:03,CW*04:01,CW*04...   \n",
       "3  558656  308155-126  A*03:01,A*80:01,B*35:03,B*44:03,CW*04:01,CW*04...   \n",
       "4  558655  308155-126  A*03:01,A*80:01,B*35:03,B*44:03,CW*04:01,CW*04...   \n",
       "5  558654  308155-126  A*03:01,A*80:01,B*35:03,B*44:03,CW*04:01,CW*04...   \n",
       "6  558653  308155-126  A*03:01,A*80:01,B*35:03,B*44:03,CW*04:01,CW*04...   \n",
       "7  558652  308155-126  A*03:01,A*80:01,B*35:03,B*44:03,CW*04:01,CW*04...   \n",
       "8  558651  308155-126  A*03:01,A*80:01,B*35:03,B*44:03,CW*04:01,CW*04...   \n",
       "9  558649  308155-126  A*03:01,A*80:01,B*35:03,B*44:03,CW*04:01,CW*04...   \n",
       "\n",
       "    patient_id  patient_cpra  \\\n",
       "0   71334-2660            91   \n",
       "1  205670-2660            75   \n",
       "2  233572-2660            18   \n",
       "3  235844-2660             0   \n",
       "4  242776-2660             0   \n",
       "5  235944-2660            49   \n",
       "6  234324-2660             0   \n",
       "7  237374-2660             0   \n",
       "8  213948-2660             6   \n",
       "9  217269-2660             0   \n",
       "\n",
       "                                         patient_hla  \\\n",
       "0  A*29:02,A*30:02,B*51:01,B*58:01,DRB1*13:01,DRB...   \n",
       "1  A*02:01,A*02:01,B*15:16,B*40:04,DRB1*07:01,DRB...   \n",
       "2  A*03:01,A*23:01,B*07:02,B*07:05,DRB1*07:01,DRB...   \n",
       "3  A*02:01,A*30:02,B*35:01,B*45:01,DRB1*07:01,DRB...   \n",
       "4  A*03:01,A*23:01,B*35:01,B*45:01,DRB1*01:01,DRB...   \n",
       "5  A*02:01,A*74:01,B*35:01,B*50:01,DRB1*07:01,DRB...   \n",
       "6  A*29:02,A*68:01,B*35:01,B*35:01,DRB1*07:01,DRB...   \n",
       "7  A*02:01,A*30:02,B*07:02,B*44:02,DRB1*07:01,DRB...   \n",
       "8  A*02:01,A*23:01,B*41:01,B*44:03,DRB1*07:01,DRB...   \n",
       "9  A*24:02,A*29:02,B*44:03,B*50:01,DRB1*07:01,DRB...   \n",
       "\n",
       "                                  patient_single_cl1  \\\n",
       "0  A*01:01,A*02:01,A*02:03,A*02:06,A*11:01,A*11:0...   \n",
       "1            A*01:01,A*23:01,A*24:02,A*24:03,A*80:01   \n",
       "2                    B*35:01,B*51:01,B*53:01,B*78:01   \n",
       "3                                                  -   \n",
       "4                                                  -   \n",
       "5  A*23:01,A*24:02,A*24:03,A*25:01,A*29:01,B*27:0...   \n",
       "6                                                  -   \n",
       "7                                                  -   \n",
       "8                                                NaN   \n",
       "9                                                  -   \n",
       "\n",
       "                                  patient_single_cl2 patient_mixed_cl1  \\\n",
       "0  DPB1*01:01,DPB1*05:01,DPB1*03:01,DPB1*06:01,DP...                 1   \n",
       "1  DRB1*13:03,DRB1*12:02,DRB1*14:54,DRB1*14:01,DR...                 -   \n",
       "2                                                  -                 1   \n",
       "3                                                  -                 0   \n",
       "4                                                  -                 0   \n",
       "5  DRB1*03:01,DRB1*03:02,DRB1*08:01,DRB1*11:01,DR...                 -   \n",
       "6                                                  -                 0   \n",
       "7                                                  -                 0   \n",
       "8                                                  -                 1   \n",
       "9                                                  -                 0   \n",
       "\n",
       "  patient_mixed_cl2 epv_result  cdc_result  \n",
       "0                 1          0           0  \n",
       "1                 -          1           0  \n",
       "2                 0          1           1  \n",
       "3                 0          -           0  \n",
       "4                 0          -           0  \n",
       "5                 -          1           1  \n",
       "6                 0          -           0  \n",
       "7                 0          -           0  \n",
       "8                 0          0           0  \n",
       "9                 0          -           0  "
      ]
     },
     "execution_count": 3,
     "metadata": {},
     "output_type": "execute_result"
    }
   ],
   "source": [
    "df.head(10)"
   ]
  },
  {
   "cell_type": "code",
   "execution_count": 4,
   "id": "3f4af8b2",
   "metadata": {
    "id": "2e4ecbf0"
   },
   "outputs": [],
   "source": [
    "def classificarColuna(nome):\n",
    "    data_array = [] ## array para pegar todas os dados diferentes da coluna\n",
    "    dict_dif_data = {} ## dict para classificar os 196 diferentes\n",
    "\n",
    "    for x in df[nome]:\n",
    "        if x not in data_array:\n",
    "            if x == 'NaN':\n",
    "                continue\n",
    "            else:\n",
    "                data_array.append(x)\n",
    "                \n",
    "    print(len(data_array))\n",
    "    \n",
    "    count = 0\n",
    "    for x in data_array:\n",
    "        dict_dif_data[x] = count\n",
    "        count += 1\n",
    "    \n",
    "    for x in range(len(df[nome])):\n",
    "        if str(dict_dif_data[df[nome][x]]) == 'nan':\n",
    "            continue\n",
    "        else:\n",
    "            df[nome][x] = str(dict_dif_data[df[nome][x]])"
   ]
  },
  {
   "cell_type": "code",
   "execution_count": 5,
   "id": "a912f4a8",
   "metadata": {
    "colab": {
     "base_uri": "https://localhost:8080/"
    },
    "id": "2318ca7d",
    "outputId": "05c2f5f3-d74e-4c69-ff0f-0010680472a8"
   },
   "outputs": [
    {
     "name": "stdout",
     "output_type": "stream",
     "text": [
      "180\n"
     ]
    },
    {
     "name": "stderr",
     "output_type": "stream",
     "text": [
      "C:\\Users\\isac_\\AppData\\Local\\Temp\\ipykernel_30452\\3087468214.py:23: SettingWithCopyWarning: \n",
      "A value is trying to be set on a copy of a slice from a DataFrame\n",
      "\n",
      "See the caveats in the documentation: https://pandas.pydata.org/pandas-docs/stable/user_guide/indexing.html#returning-a-view-versus-a-copy\n",
      "  df[nome][x] = str(dict_dif_data[df[nome][x]])\n"
     ]
    },
    {
     "name": "stdout",
     "output_type": "stream",
     "text": [
      "146\n"
     ]
    }
   ],
   "source": [
    "classificarColuna('patient_single_cl1')\n",
    "classificarColuna('patient_single_cl2')"
   ]
  },
  {
   "cell_type": "code",
   "execution_count": 6,
   "id": "0331a87f",
   "metadata": {
    "id": "9ab6d760"
   },
   "outputs": [],
   "source": [
    "df_mod = df"
   ]
  },
  {
   "cell_type": "code",
   "execution_count": 7,
   "id": "f91fda4d",
   "metadata": {
    "colab": {
     "base_uri": "https://localhost:8080/",
     "height": 357
    },
    "id": "2ec27436",
    "outputId": "35a2af2b-aafc-4aaf-83df-791005830400"
   },
   "outputs": [
    {
     "data": {
      "text/html": [
       "<div>\n",
       "<style scoped>\n",
       "    .dataframe tbody tr th:only-of-type {\n",
       "        vertical-align: middle;\n",
       "    }\n",
       "\n",
       "    .dataframe tbody tr th {\n",
       "        vertical-align: top;\n",
       "    }\n",
       "\n",
       "    .dataframe thead th {\n",
       "        text-align: right;\n",
       "    }\n",
       "</style>\n",
       "<table border=\"1\" class=\"dataframe\">\n",
       "  <thead>\n",
       "    <tr style=\"text-align: right;\">\n",
       "      <th></th>\n",
       "      <th>id</th>\n",
       "      <th>donor_id</th>\n",
       "      <th>donor_hla</th>\n",
       "      <th>patient_id</th>\n",
       "      <th>patient_cpra</th>\n",
       "      <th>patient_hla</th>\n",
       "      <th>patient_single_cl1</th>\n",
       "      <th>patient_single_cl2</th>\n",
       "      <th>patient_mixed_cl1</th>\n",
       "      <th>patient_mixed_cl2</th>\n",
       "      <th>epv_result</th>\n",
       "      <th>cdc_result</th>\n",
       "    </tr>\n",
       "  </thead>\n",
       "  <tbody>\n",
       "    <tr>\n",
       "      <th>0</th>\n",
       "      <td>558716</td>\n",
       "      <td>308155-126</td>\n",
       "      <td>A*03:01,A*80:01,B*35:03,B*44:03,CW*04:01,CW*04...</td>\n",
       "      <td>71334-2660</td>\n",
       "      <td>91</td>\n",
       "      <td>A*29:02,A*30:02,B*51:01,B*58:01,DRB1*13:01,DRB...</td>\n",
       "      <td>0</td>\n",
       "      <td>0</td>\n",
       "      <td>1</td>\n",
       "      <td>1</td>\n",
       "      <td>0</td>\n",
       "      <td>0</td>\n",
       "    </tr>\n",
       "    <tr>\n",
       "      <th>1</th>\n",
       "      <td>558658</td>\n",
       "      <td>308155-126</td>\n",
       "      <td>A*03:01,A*80:01,B*35:03,B*44:03,CW*04:01,CW*04...</td>\n",
       "      <td>205670-2660</td>\n",
       "      <td>75</td>\n",
       "      <td>A*02:01,A*02:01,B*15:16,B*40:04,DRB1*07:01,DRB...</td>\n",
       "      <td>1</td>\n",
       "      <td>1</td>\n",
       "      <td>-</td>\n",
       "      <td>-</td>\n",
       "      <td>1</td>\n",
       "      <td>0</td>\n",
       "    </tr>\n",
       "    <tr>\n",
       "      <th>2</th>\n",
       "      <td>558657</td>\n",
       "      <td>308155-126</td>\n",
       "      <td>A*03:01,A*80:01,B*35:03,B*44:03,CW*04:01,CW*04...</td>\n",
       "      <td>233572-2660</td>\n",
       "      <td>18</td>\n",
       "      <td>A*03:01,A*23:01,B*07:02,B*07:05,DRB1*07:01,DRB...</td>\n",
       "      <td>2</td>\n",
       "      <td>2</td>\n",
       "      <td>1</td>\n",
       "      <td>0</td>\n",
       "      <td>1</td>\n",
       "      <td>1</td>\n",
       "    </tr>\n",
       "    <tr>\n",
       "      <th>3</th>\n",
       "      <td>558656</td>\n",
       "      <td>308155-126</td>\n",
       "      <td>A*03:01,A*80:01,B*35:03,B*44:03,CW*04:01,CW*04...</td>\n",
       "      <td>235844-2660</td>\n",
       "      <td>0</td>\n",
       "      <td>A*02:01,A*30:02,B*35:01,B*45:01,DRB1*07:01,DRB...</td>\n",
       "      <td>3</td>\n",
       "      <td>2</td>\n",
       "      <td>0</td>\n",
       "      <td>0</td>\n",
       "      <td>-</td>\n",
       "      <td>0</td>\n",
       "    </tr>\n",
       "    <tr>\n",
       "      <th>4</th>\n",
       "      <td>558655</td>\n",
       "      <td>308155-126</td>\n",
       "      <td>A*03:01,A*80:01,B*35:03,B*44:03,CW*04:01,CW*04...</td>\n",
       "      <td>242776-2660</td>\n",
       "      <td>0</td>\n",
       "      <td>A*03:01,A*23:01,B*35:01,B*45:01,DRB1*01:01,DRB...</td>\n",
       "      <td>3</td>\n",
       "      <td>2</td>\n",
       "      <td>0</td>\n",
       "      <td>0</td>\n",
       "      <td>-</td>\n",
       "      <td>0</td>\n",
       "    </tr>\n",
       "  </tbody>\n",
       "</table>\n",
       "</div>"
      ],
      "text/plain": [
       "       id    donor_id                                          donor_hla  \\\n",
       "0  558716  308155-126  A*03:01,A*80:01,B*35:03,B*44:03,CW*04:01,CW*04...   \n",
       "1  558658  308155-126  A*03:01,A*80:01,B*35:03,B*44:03,CW*04:01,CW*04...   \n",
       "2  558657  308155-126  A*03:01,A*80:01,B*35:03,B*44:03,CW*04:01,CW*04...   \n",
       "3  558656  308155-126  A*03:01,A*80:01,B*35:03,B*44:03,CW*04:01,CW*04...   \n",
       "4  558655  308155-126  A*03:01,A*80:01,B*35:03,B*44:03,CW*04:01,CW*04...   \n",
       "\n",
       "    patient_id  patient_cpra  \\\n",
       "0   71334-2660            91   \n",
       "1  205670-2660            75   \n",
       "2  233572-2660            18   \n",
       "3  235844-2660             0   \n",
       "4  242776-2660             0   \n",
       "\n",
       "                                         patient_hla patient_single_cl1  \\\n",
       "0  A*29:02,A*30:02,B*51:01,B*58:01,DRB1*13:01,DRB...                  0   \n",
       "1  A*02:01,A*02:01,B*15:16,B*40:04,DRB1*07:01,DRB...                  1   \n",
       "2  A*03:01,A*23:01,B*07:02,B*07:05,DRB1*07:01,DRB...                  2   \n",
       "3  A*02:01,A*30:02,B*35:01,B*45:01,DRB1*07:01,DRB...                  3   \n",
       "4  A*03:01,A*23:01,B*35:01,B*45:01,DRB1*01:01,DRB...                  3   \n",
       "\n",
       "  patient_single_cl2 patient_mixed_cl1 patient_mixed_cl2 epv_result  \\\n",
       "0                  0                 1                 1          0   \n",
       "1                  1                 -                 -          1   \n",
       "2                  2                 1                 0          1   \n",
       "3                  2                 0                 0          -   \n",
       "4                  2                 0                 0          -   \n",
       "\n",
       "   cdc_result  \n",
       "0           0  \n",
       "1           0  \n",
       "2           1  \n",
       "3           0  \n",
       "4           0  "
      ]
     },
     "execution_count": 7,
     "metadata": {},
     "output_type": "execute_result"
    }
   ],
   "source": [
    "df_mod.head()"
   ]
  },
  {
   "cell_type": "code",
   "execution_count": 8,
   "id": "56acf615",
   "metadata": {
    "id": "bba2e468"
   },
   "outputs": [],
   "source": [
    "def classificarPatientHla():\n",
    "    for j in range(6): ## 6 novas colunas para patient_hla\n",
    "        lista = []\n",
    "        for i in range(len(df_mod['patient_hla'])): ## criação da nova coluna\n",
    "            patient_hla = df_mod['patient_hla'][i].split(',')\n",
    "            lista.append(','.join(patient_hla[j:j+2]))\n",
    "        print(len(lista))\n",
    "        break\n",
    "    return\n",
    "\n",
    "def classificarDonorHla(): # 9 novas colunas para donor_hla\n",
    "    for j in range(9): \n",
    "        lista = []\n",
    "        for i in range(len(df_mod['donor_hla'])): ## criação da nova coluna\n",
    "            donor_hla = df_mod['donor_hla'][i].split(',')\n",
    "            lista.append(','.join(donor_hla[j:j+2]))\n",
    "        print(len(lista))\n",
    "        break\n",
    "    return"
   ]
  },
  {
   "cell_type": "code",
   "execution_count": 9,
   "id": "260a263b",
   "metadata": {
    "colab": {
     "base_uri": "https://localhost:8080/"
    },
    "id": "f410cb05",
    "outputId": "6f2a73f2-ac47-4bb8-fbef-61d549698771"
   },
   "outputs": [
    {
     "name": "stdout",
     "output_type": "stream",
     "text": [
      "942\n",
      "942\n"
     ]
    }
   ],
   "source": [
    "classificarPatientHla()\n",
    "classificarDonorHla()"
   ]
  },
  {
   "cell_type": "code",
   "execution_count": 10,
   "id": "f3e83ece",
   "metadata": {
    "id": "1c338cda"
   },
   "outputs": [],
   "source": [
    "def pares(iterable):\n",
    "    a = iter(iterable)\n",
    "    return zip(a, a)"
   ]
  },
  {
   "cell_type": "code",
   "execution_count": 11,
   "id": "9d777261",
   "metadata": {
    "id": "f1c65f68"
   },
   "outputs": [],
   "source": [
    "for x in range(6):\n",
    "    df_mod['patient_hla'+str(x)] = \" \"\n",
    "    \n",
    "for x in range(9):\n",
    "    df_mod['donor_hla'+str(x)] = \" \"    "
   ]
  },
  {
   "cell_type": "code",
   "execution_count": 12,
   "id": "6654d565",
   "metadata": {
    "colab": {
     "base_uri": "https://localhost:8080/",
     "height": 386
    },
    "id": "2944247b",
    "outputId": "64557462-cc65-4218-a71f-0d638d97e548"
   },
   "outputs": [
    {
     "data": {
      "text/html": [
       "<div>\n",
       "<style scoped>\n",
       "    .dataframe tbody tr th:only-of-type {\n",
       "        vertical-align: middle;\n",
       "    }\n",
       "\n",
       "    .dataframe tbody tr th {\n",
       "        vertical-align: top;\n",
       "    }\n",
       "\n",
       "    .dataframe thead th {\n",
       "        text-align: right;\n",
       "    }\n",
       "</style>\n",
       "<table border=\"1\" class=\"dataframe\">\n",
       "  <thead>\n",
       "    <tr style=\"text-align: right;\">\n",
       "      <th></th>\n",
       "      <th>id</th>\n",
       "      <th>donor_id</th>\n",
       "      <th>donor_hla</th>\n",
       "      <th>patient_id</th>\n",
       "      <th>patient_cpra</th>\n",
       "      <th>patient_hla</th>\n",
       "      <th>patient_single_cl1</th>\n",
       "      <th>patient_single_cl2</th>\n",
       "      <th>patient_mixed_cl1</th>\n",
       "      <th>patient_mixed_cl2</th>\n",
       "      <th>...</th>\n",
       "      <th>patient_hla5</th>\n",
       "      <th>donor_hla0</th>\n",
       "      <th>donor_hla1</th>\n",
       "      <th>donor_hla2</th>\n",
       "      <th>donor_hla3</th>\n",
       "      <th>donor_hla4</th>\n",
       "      <th>donor_hla5</th>\n",
       "      <th>donor_hla6</th>\n",
       "      <th>donor_hla7</th>\n",
       "      <th>donor_hla8</th>\n",
       "    </tr>\n",
       "  </thead>\n",
       "  <tbody>\n",
       "    <tr>\n",
       "      <th>0</th>\n",
       "      <td>558716</td>\n",
       "      <td>308155-126</td>\n",
       "      <td>A*03:01,A*80:01,B*35:03,B*44:03,CW*04:01,CW*04...</td>\n",
       "      <td>71334-2660</td>\n",
       "      <td>91</td>\n",
       "      <td>A*29:02,A*30:02,B*51:01,B*58:01,DRB1*13:01,DRB...</td>\n",
       "      <td>0</td>\n",
       "      <td>0</td>\n",
       "      <td>1</td>\n",
       "      <td>1</td>\n",
       "      <td>...</td>\n",
       "      <td></td>\n",
       "      <td></td>\n",
       "      <td></td>\n",
       "      <td></td>\n",
       "      <td></td>\n",
       "      <td></td>\n",
       "      <td></td>\n",
       "      <td></td>\n",
       "      <td></td>\n",
       "      <td></td>\n",
       "    </tr>\n",
       "    <tr>\n",
       "      <th>1</th>\n",
       "      <td>558658</td>\n",
       "      <td>308155-126</td>\n",
       "      <td>A*03:01,A*80:01,B*35:03,B*44:03,CW*04:01,CW*04...</td>\n",
       "      <td>205670-2660</td>\n",
       "      <td>75</td>\n",
       "      <td>A*02:01,A*02:01,B*15:16,B*40:04,DRB1*07:01,DRB...</td>\n",
       "      <td>1</td>\n",
       "      <td>1</td>\n",
       "      <td>-</td>\n",
       "      <td>-</td>\n",
       "      <td>...</td>\n",
       "      <td></td>\n",
       "      <td></td>\n",
       "      <td></td>\n",
       "      <td></td>\n",
       "      <td></td>\n",
       "      <td></td>\n",
       "      <td></td>\n",
       "      <td></td>\n",
       "      <td></td>\n",
       "      <td></td>\n",
       "    </tr>\n",
       "    <tr>\n",
       "      <th>2</th>\n",
       "      <td>558657</td>\n",
       "      <td>308155-126</td>\n",
       "      <td>A*03:01,A*80:01,B*35:03,B*44:03,CW*04:01,CW*04...</td>\n",
       "      <td>233572-2660</td>\n",
       "      <td>18</td>\n",
       "      <td>A*03:01,A*23:01,B*07:02,B*07:05,DRB1*07:01,DRB...</td>\n",
       "      <td>2</td>\n",
       "      <td>2</td>\n",
       "      <td>1</td>\n",
       "      <td>0</td>\n",
       "      <td>...</td>\n",
       "      <td></td>\n",
       "      <td></td>\n",
       "      <td></td>\n",
       "      <td></td>\n",
       "      <td></td>\n",
       "      <td></td>\n",
       "      <td></td>\n",
       "      <td></td>\n",
       "      <td></td>\n",
       "      <td></td>\n",
       "    </tr>\n",
       "    <tr>\n",
       "      <th>3</th>\n",
       "      <td>558656</td>\n",
       "      <td>308155-126</td>\n",
       "      <td>A*03:01,A*80:01,B*35:03,B*44:03,CW*04:01,CW*04...</td>\n",
       "      <td>235844-2660</td>\n",
       "      <td>0</td>\n",
       "      <td>A*02:01,A*30:02,B*35:01,B*45:01,DRB1*07:01,DRB...</td>\n",
       "      <td>3</td>\n",
       "      <td>2</td>\n",
       "      <td>0</td>\n",
       "      <td>0</td>\n",
       "      <td>...</td>\n",
       "      <td></td>\n",
       "      <td></td>\n",
       "      <td></td>\n",
       "      <td></td>\n",
       "      <td></td>\n",
       "      <td></td>\n",
       "      <td></td>\n",
       "      <td></td>\n",
       "      <td></td>\n",
       "      <td></td>\n",
       "    </tr>\n",
       "    <tr>\n",
       "      <th>4</th>\n",
       "      <td>558655</td>\n",
       "      <td>308155-126</td>\n",
       "      <td>A*03:01,A*80:01,B*35:03,B*44:03,CW*04:01,CW*04...</td>\n",
       "      <td>242776-2660</td>\n",
       "      <td>0</td>\n",
       "      <td>A*03:01,A*23:01,B*35:01,B*45:01,DRB1*01:01,DRB...</td>\n",
       "      <td>3</td>\n",
       "      <td>2</td>\n",
       "      <td>0</td>\n",
       "      <td>0</td>\n",
       "      <td>...</td>\n",
       "      <td></td>\n",
       "      <td></td>\n",
       "      <td></td>\n",
       "      <td></td>\n",
       "      <td></td>\n",
       "      <td></td>\n",
       "      <td></td>\n",
       "      <td></td>\n",
       "      <td></td>\n",
       "      <td></td>\n",
       "    </tr>\n",
       "  </tbody>\n",
       "</table>\n",
       "<p>5 rows × 27 columns</p>\n",
       "</div>"
      ],
      "text/plain": [
       "       id    donor_id                                          donor_hla  \\\n",
       "0  558716  308155-126  A*03:01,A*80:01,B*35:03,B*44:03,CW*04:01,CW*04...   \n",
       "1  558658  308155-126  A*03:01,A*80:01,B*35:03,B*44:03,CW*04:01,CW*04...   \n",
       "2  558657  308155-126  A*03:01,A*80:01,B*35:03,B*44:03,CW*04:01,CW*04...   \n",
       "3  558656  308155-126  A*03:01,A*80:01,B*35:03,B*44:03,CW*04:01,CW*04...   \n",
       "4  558655  308155-126  A*03:01,A*80:01,B*35:03,B*44:03,CW*04:01,CW*04...   \n",
       "\n",
       "    patient_id  patient_cpra  \\\n",
       "0   71334-2660            91   \n",
       "1  205670-2660            75   \n",
       "2  233572-2660            18   \n",
       "3  235844-2660             0   \n",
       "4  242776-2660             0   \n",
       "\n",
       "                                         patient_hla patient_single_cl1  \\\n",
       "0  A*29:02,A*30:02,B*51:01,B*58:01,DRB1*13:01,DRB...                  0   \n",
       "1  A*02:01,A*02:01,B*15:16,B*40:04,DRB1*07:01,DRB...                  1   \n",
       "2  A*03:01,A*23:01,B*07:02,B*07:05,DRB1*07:01,DRB...                  2   \n",
       "3  A*02:01,A*30:02,B*35:01,B*45:01,DRB1*07:01,DRB...                  3   \n",
       "4  A*03:01,A*23:01,B*35:01,B*45:01,DRB1*01:01,DRB...                  3   \n",
       "\n",
       "  patient_single_cl2 patient_mixed_cl1 patient_mixed_cl2  ... patient_hla5  \\\n",
       "0                  0                 1                 1  ...                \n",
       "1                  1                 -                 -  ...                \n",
       "2                  2                 1                 0  ...                \n",
       "3                  2                 0                 0  ...                \n",
       "4                  2                 0                 0  ...                \n",
       "\n",
       "   donor_hla0 donor_hla1 donor_hla2 donor_hla3 donor_hla4 donor_hla5  \\\n",
       "0                                                                      \n",
       "1                                                                      \n",
       "2                                                                      \n",
       "3                                                                      \n",
       "4                                                                      \n",
       "\n",
       "  donor_hla6 donor_hla7 donor_hla8  \n",
       "0                                   \n",
       "1                                   \n",
       "2                                   \n",
       "3                                   \n",
       "4                                   \n",
       "\n",
       "[5 rows x 27 columns]"
      ]
     },
     "execution_count": 12,
     "metadata": {},
     "output_type": "execute_result"
    }
   ],
   "source": [
    "df_mod.head()"
   ]
  },
  {
   "cell_type": "code",
   "execution_count": 13,
   "id": "696dba46",
   "metadata": {
    "id": "6a289ce7"
   },
   "outputs": [],
   "source": [
    "import time"
   ]
  },
  {
   "cell_type": "code",
   "execution_count": 14,
   "id": "b9c055f9",
   "metadata": {
    "id": "f88756ec"
   },
   "outputs": [],
   "source": [
    "def dividir_patient_hla(j):\n",
    "    transform = []\n",
    "    for i in range(len(df_mod)):\n",
    "        patient_hla = df_mod['patient_hla'][i].split(\",\")\n",
    "        \n",
    "        if len(patient_hla) < 12:\n",
    "            for z in range(12 - len(patient_hla)):\n",
    "                patient_hla.append(\"-\")\n",
    "                \n",
    "        for x, y in pares(patient_hla):\n",
    "            transform.append([x,y])\n",
    "            \n",
    "        df_mod['patient_hla'+str(j)][i] = ','.join(transform[j])\n",
    "        transform = []"
   ]
  },
  {
   "cell_type": "code",
   "execution_count": 15,
   "id": "8944807a",
   "metadata": {
    "id": "cc60339f"
   },
   "outputs": [],
   "source": [
    "def dividir_donor_hla(j):\n",
    "    transform = []\n",
    "    for i in range(len(df_mod)):\n",
    "        donor_hla = df_mod['donor_hla'][i].split(\",\")\n",
    "        \n",
    "        if len(donor_hla) < 18:\n",
    "            for z in range(18 - len(donor_hla)):\n",
    "                donor_hla.append(\"-\")\n",
    "                \n",
    "        for x, y in pares(donor_hla):\n",
    "            transform.append([x,y])\n",
    "            \n",
    "        df_mod['donor_hla'+str(j)][i] = ','.join(transform[j])\n",
    "        transform = []"
   ]
  },
  {
   "cell_type": "code",
   "execution_count": 16,
   "id": "a0c34d3a",
   "metadata": {
    "colab": {
     "base_uri": "https://localhost:8080/"
    },
    "id": "782ff51e",
    "outputId": "17c9e02e-40ce-42a4-9ac9-41881c288e7e"
   },
   "outputs": [
    {
     "name": "stderr",
     "output_type": "stream",
     "text": [
      "C:\\Users\\isac_\\AppData\\Local\\Temp\\ipykernel_30452\\1264221084.py:13: SettingWithCopyWarning: \n",
      "A value is trying to be set on a copy of a slice from a DataFrame\n",
      "\n",
      "See the caveats in the documentation: https://pandas.pydata.org/pandas-docs/stable/user_guide/indexing.html#returning-a-view-versus-a-copy\n",
      "  df_mod['patient_hla'+str(j)][i] = ','.join(transform[j])\n"
     ]
    }
   ],
   "source": [
    "for i in range(6): # vai de 0 a 5\n",
    "    dividir_patient_hla(i)"
   ]
  },
  {
   "cell_type": "code",
   "execution_count": null,
   "id": "abfea57c",
   "metadata": {
    "colab": {
     "base_uri": "https://localhost:8080/"
    },
    "id": "2884f2ef",
    "outputId": "e98c54fa-dc5a-4067-f7d1-70c996a8d8a1"
   },
   "outputs": [
    {
     "name": "stderr",
     "output_type": "stream",
     "text": [
      "C:\\Users\\isac_\\AppData\\Local\\Temp\\ipykernel_30452\\4112756189.py:13: SettingWithCopyWarning: \n",
      "A value is trying to be set on a copy of a slice from a DataFrame\n",
      "\n",
      "See the caveats in the documentation: https://pandas.pydata.org/pandas-docs/stable/user_guide/indexing.html#returning-a-view-versus-a-copy\n",
      "  df_mod['donor_hla'+str(j)][i] = ','.join(transform[j])\n"
     ]
    }
   ],
   "source": [
    "for i in range(9): # vai de 0 a 8\n",
    "    dividir_donor_hla(i)"
   ]
  },
  {
   "cell_type": "code",
   "execution_count": null,
   "id": "083ace03",
   "metadata": {
    "id": "0bbb2120"
   },
   "outputs": [],
   "source": [
    "df_mod.drop('id', inplace=True, axis=1)\n",
    "df_mod.drop('donor_id', inplace=True, axis=1)\n",
    "df_mod.drop('patient_id', inplace=True, axis=1)\n",
    "df_mod.drop('patient_cpra', inplace=True, axis=1)\n",
    "df_mod.drop('patient_hla', inplace=True, axis=1)"
   ]
  },
  {
   "cell_type": "code",
   "execution_count": null,
   "id": "25c4f357",
   "metadata": {
    "id": "02fc978f"
   },
   "outputs": [],
   "source": [
    "df['patient_hla0'] = df['patient_hla0'].str.replace(',','/')\n",
    "df['patient_hla1'] = df['patient_hla1'].str.replace(',','/')\n",
    "df['patient_hla2'] = df['patient_hla2'].str.replace(',','/')\n",
    "df['patient_hla3'] = df['patient_hla3'].str.replace(',','/')\n",
    "df['patient_hla4'] = df['patient_hla4'].str.replace(',','/')\n",
    "df['patient_hla5'] = df['patient_hla5'].str.replace(',','/')\n",
    "\n",
    "for i in range(9):\n",
    "    df['donor_hla'+str(i)] = df['donor_hla'+str(i)].str.replace(',','/')"
   ]
  },
  {
   "cell_type": "code",
   "execution_count": null,
   "id": "f85d4648",
   "metadata": {
    "id": "05b8217a"
   },
   "outputs": [],
   "source": [
    "df_mod.drop('donor_hla', inplace=True, axis=1)"
   ]
  },
  {
   "cell_type": "code",
   "execution_count": null,
   "id": "9f88e67b",
   "metadata": {
    "colab": {
     "base_uri": "https://localhost:8080/",
     "height": 300
    },
    "id": "4f485d21",
    "outputId": "2d5702fb-892a-4d82-c351-36086d23323d"
   },
   "outputs": [],
   "source": [
    "df_mod.head()"
   ]
  },
  {
   "cell_type": "code",
   "execution_count": null,
   "id": "ef9f5f52",
   "metadata": {
    "id": "c577c7d5"
   },
   "outputs": [],
   "source": [
    "df_mod = df_mod[['donor_hla0', 'donor_hla1', 'donor_hla2', 'donor_hla3', 'donor_hla4', 'donor_hla5', 'donor_hla6','donor_hla7','donor_hla8','patient_single_cl1', 'patient_single_cl2', 'patient_mixed_cl1', 'patient_mixed_cl2',\n",
    "                'epv_result', 'patient_hla0', 'patient_hla1', 'patient_hla2', 'patient_hla3', 'patient_hla4', 'patient_hla5',\n",
    "                'cdc_result']]"
   ]
  },
  {
   "cell_type": "code",
   "execution_count": null,
   "id": "8151211e",
   "metadata": {
    "id": "5cd794b6"
   },
   "outputs": [],
   "source": [
    "def classificarColunaDfMod(nome):\n",
    "    data_array = []\n",
    "    dict_dif_data = {}\n",
    "\n",
    "    for x in df_mod[nome]:\n",
    "        if x not in data_array:\n",
    "            if x == 'NaN':\n",
    "                continue\n",
    "            else:\n",
    "                data_array.append(x)\n",
    "    \n",
    "    count = 0\n",
    "    for x in data_array:\n",
    "        dict_dif_data[x] = count\n",
    "        count += 1\n",
    "    \n",
    "    for x in range(len(df[nome])):\n",
    "        if str(dict_dif_data[df_mod[nome][x]]) == 'nan':\n",
    "            continue\n",
    "        else:\n",
    "            df_mod[nome][x] = str(dict_dif_data[df_mod[nome][x]])"
   ]
  },
  {
   "cell_type": "code",
   "execution_count": null,
   "id": "831201d5",
   "metadata": {
    "id": "0d31bfb7"
   },
   "outputs": [],
   "source": [
    "df_mod = df_mod[df_mod['patient_mixed_cl1'].str.contains(\"-\") == False]\n",
    "df_mod = df_mod[df_mod['patient_mixed_cl2'].str.contains(\"-\") == False]\n",
    "df_mod = df_mod[df_mod['patient_single_cl1'].str.contains(\"-\") == False]\n",
    "df_mod = df_mod[df_mod['patient_single_cl2'].str.contains(\"-\") == False]\n",
    "df_mod = df_mod[df_mod['epv_result'].str.contains(\"-\") == False]"
   ]
  },
  {
   "cell_type": "code",
   "execution_count": null,
   "id": "16fb2021",
   "metadata": {
    "id": "1c7419df"
   },
   "outputs": [],
   "source": [
    "df_mod['patient_single_cl1'] = df_mod['patient_single_cl1'].astype('int64')\n",
    "df_mod['patient_single_cl2'] = df_mod['patient_single_cl2'].astype('int64')\n",
    "df_mod['patient_mixed_cl1'] = df_mod['patient_mixed_cl1'].astype('int64')\n",
    "df_mod['patient_mixed_cl2'] = df_mod['patient_mixed_cl2'].astype('int64')\n",
    "df_mod['epv_result'] = df_mod['epv_result'].astype('int64')\n",
    "df_mod['cdc_result'] = df_mod['cdc_result'].astype('int64')"
   ]
  },
  {
   "cell_type": "code",
   "execution_count": null,
   "id": "8252a40e",
   "metadata": {
    "id": "32d55c7f"
   },
   "outputs": [],
   "source": [
    "def unique(list1):\n",
    "      \n",
    "    # insert the list to the set\n",
    "    list_set = set(df_mod[list1])\n",
    "    # convert the set to the list\n",
    "    unique_list = (list(list_set))\n",
    "    \n",
    "    return unique_list"
   ]
  },
  {
   "cell_type": "code",
   "execution_count": null,
   "id": "db7090f7",
   "metadata": {
    "id": "4569773f"
   },
   "outputs": [],
   "source": [
    "donor_hla0 = unique('donor_hla0')\n",
    "donor_hla1 = unique('donor_hla1')\n",
    "donor_hla2 = unique('donor_hla2')\n",
    "donor_hla3 = unique('donor_hla3')\n",
    "donor_hla4 = unique('donor_hla4')\n",
    "donor_hla5 = unique('donor_hla5')\n",
    "donor_hla6 = unique('donor_hla6')\n",
    "donor_hla7 = unique('donor_hla7')\n",
    "donor_hla8 = unique('donor_hla8')\n",
    "patient_single_cl1 = unique('patient_single_cl1')\n",
    "patient_single_cl2 = unique('patient_single_cl2')\n",
    "patient_mixed_cl1 = unique('patient_mixed_cl1')\n",
    "patient_mixed_cl2 = unique('patient_mixed_cl2')\n",
    "epv_result = unique('epv_result')\n",
    "cdc_result = unique('cdc_result')"
   ]
  },
  {
   "cell_type": "code",
   "execution_count": null,
   "id": "20684be2",
   "metadata": {
    "id": "ce4a3a53"
   },
   "outputs": [],
   "source": [
    "patient_hla0 = unique('patient_hla0')\n",
    "patient_hla1 = unique('patient_hla1')\n",
    "patient_hla2 = unique('patient_hla2')\n",
    "patient_hla3 = unique('patient_hla3')\n",
    "patient_hla4 = unique('patient_hla4')\n",
    "patient_hla5 = unique('patient_hla5')"
   ]
  },
  {
   "cell_type": "code",
   "execution_count": null,
   "id": "b2bccedc",
   "metadata": {
    "id": "88fcae0d"
   },
   "outputs": [],
   "source": []
  },
  {
   "cell_type": "code",
   "execution_count": null,
   "id": "8f219d88",
   "metadata": {
    "colab": {
     "base_uri": "https://localhost:8080/",
     "height": 456
    },
    "id": "9f46f7f0",
    "outputId": "114fcc05-9762-4a8a-8afe-5c445016eede"
   },
   "outputs": [],
   "source": [
    "df_mod.head(10)"
   ]
  },
  {
   "cell_type": "code",
   "execution_count": null,
   "id": "aaf14fca",
   "metadata": {
    "id": "599c9962"
   },
   "outputs": [],
   "source": [
    "#temp_df = []\n",
    "#for row in df_mod.itertuples(index=False):\n",
    "#    if row.cdc_result:\n",
    "#        temp_df.extend([list(row)]*2) ## duplicar/triplicar o número de linhas com 1 para rearranjar o data frame\n",
    "#    else:\n",
    "#        temp_df.append(list(row))\n",
    "\n",
    "#df_mod = pd.DataFrame(temp_df, columns=df_mod.columns)"
   ]
  },
  {
   "cell_type": "code",
   "execution_count": null,
   "id": "f961c9f0",
   "metadata": {
    "colab": {
     "base_uri": "https://localhost:8080/",
     "height": 488
    },
    "id": "c5398439",
    "outputId": "c1355463-a325-4450-d07f-6c32e15b1cf8"
   },
   "outputs": [],
   "source": [
    "df_mod"
   ]
  },
  {
   "cell_type": "code",
   "execution_count": null,
   "id": "8f21737a",
   "metadata": {
    "id": "7504ecaa"
   },
   "outputs": [],
   "source": [
    "count0 = (df_mod['cdc_result'] == 0).sum()\n",
    "count1 = (df_mod['cdc_result'] == 1).sum()"
   ]
  },
  {
   "cell_type": "code",
   "execution_count": null,
   "id": "49b8c20d",
   "metadata": {
    "id": "93ac22e8"
   },
   "outputs": [],
   "source": [
    "df_mod = pd.get_dummies(df_mod)"
   ]
  },
  {
   "cell_type": "code",
   "execution_count": null,
   "id": "bb885cd9",
   "metadata": {
    "colab": {
     "base_uri": "https://localhost:8080/",
     "height": 300
    },
    "id": "67ab122a",
    "outputId": "def0ea86-172b-45d0-817d-2fb750b30ea0"
   },
   "outputs": [],
   "source": [
    "df_mod.head(5)"
   ]
  },
  {
   "cell_type": "code",
   "execution_count": null,
   "id": "d5725a1c",
   "metadata": {
    "id": "8072a052"
   },
   "outputs": [],
   "source": [
    "from sklearn.model_selection import train_test_split\n",
    "from sklearn.utils import resample,shuffle\n",
    "\n",
    "#labels = df_mod['cdc_result']\n",
    "#df_mod = df_mod.drop('cdc_result', axis = 1)\n",
    "#feature_list = list(df_mod.columns)\n",
    "\n",
    "#X_train, X_test, y_train, y_test = train_test_split(df_mod, labels, test_size = 0.30, random_state = 42)"
   ]
  },
  {
   "cell_type": "code",
   "execution_count": null,
   "id": "8cd88f93",
   "metadata": {
    "id": "51240dd9"
   },
   "outputs": [],
   "source": [
    "#print('Training Features Shape:', X_train.shape)\n",
    "#print('Training Labels Shape:', y_train.shape)\n",
    "#print('Testing Features Shape:', X_test.shape)\n",
    "#print('Testing Labels Shape:', y_test.shape)"
   ]
  },
  {
   "cell_type": "code",
   "execution_count": null,
   "id": "9423d6f3",
   "metadata": {
    "colab": {
     "base_uri": "https://localhost:8080/"
    },
    "id": "ddcbddfa",
    "outputId": "b406f061-5ec9-477b-9737-d02fe94b79f4"
   },
   "outputs": [],
   "source": [
    "count_class_0, count_class_1 = df_mod.cdc_result.value_counts()\n",
    "\n",
    "df_class_0 = df_mod[df_mod['cdc_result'] == 0]\n",
    "df_class_1 = df_mod[df_mod['cdc_result'] == 1]\n",
    "\n",
    "df_class_0_under = df_class_0.sample(count_class_1)\n",
    "df_test_under = pd.concat([df_class_0_under, df_class_1], axis=0)\n",
    "\n",
    "df_1_upsampled = resample(df_class_1, random_state=42, n_samples=len(df_class_0), replace=True)\n",
    "df_upsampled = pd.concat([df_1_upsampled, df_class_0])\n",
    "df_upsampled.cdc_result.value_counts()"
   ]
  },
  {
   "cell_type": "code",
   "execution_count": null,
   "id": "c656074b",
   "metadata": {
    "colab": {
     "base_uri": "https://localhost:8080/",
     "height": 488
    },
    "id": "cd78cc6c",
    "outputId": "ea594dd3-67bb-4617-e106-7cf0ba3ff896"
   },
   "outputs": [],
   "source": [
    "df_upsampled"
   ]
  },
  {
   "cell_type": "code",
   "execution_count": null,
   "id": "416a7578",
   "metadata": {
    "id": "0cdf1c97"
   },
   "outputs": [],
   "source": [
    "labels = df_upsampled['cdc_result'].to_numpy()\n",
    "df_upsampled = df_upsampled.drop('cdc_result', axis = 1).to_numpy()\n",
    "\n",
    "X_train, X_test, y_train, y_test = train_test_split(df_upsampled, labels, test_size = 0.40, random_state = 42)"
   ]
  },
  {
   "cell_type": "code",
   "execution_count": null,
   "id": "afb49f2e",
   "metadata": {
    "colab": {
     "base_uri": "https://localhost:8080/"
    },
    "id": "62068ba2",
    "outputId": "ca820aca-e109-4247-948a-f7a978b46447"
   },
   "outputs": [],
   "source": [
    "print('Training Features Shape:', X_train.shape)\n",
    "print('Training Labels Shape:', y_train.shape)\n",
    "print('Testing Features Shape:', X_test.shape)\n",
    "print('Testing Labels Shape:', y_test.shape)"
   ]
  },
  {
   "cell_type": "code",
   "execution_count": null,
   "id": "81134796",
   "metadata": {
    "id": "52b9879c"
   },
   "outputs": [],
   "source": [
    "#y = df_upsampled.cdc_result\n",
    "#X = df_upsampled.drop('cdc_result', axis=1)"
   ]
  },
  {
   "cell_type": "code",
   "execution_count": null,
   "id": "513a37cb",
   "metadata": {
    "id": "a828367b"
   },
   "outputs": [],
   "source": [
    "from sklearn.model_selection import cross_validate"
   ]
  },
  {
   "cell_type": "code",
   "execution_count": null,
   "id": "334f2371",
   "metadata": {
    "id": "41ce99ab"
   },
   "outputs": [],
   "source": [
    "def cross_validation(model, _X, _y, _cv=10):\n",
    "        _scoring = ['accuracy', 'precision', 'recall', 'f1']\n",
    "        results = cross_validate(estimator=model, X= _X, y= _y, cv= _cv, scoring= _scoring, return_train_score=True)\n",
    "      \n",
    "        return {\"Training Accuracy scores\": results['train_accuracy'],\n",
    "              \"Mean Training Accuracy\": results['train_accuracy'].mean()*100,\n",
    "              \"Training Precision scores\": results['train_precision'],\n",
    "              \"Mean Training Precision\": results['train_precision'].mean(),\n",
    "              \"Training Recall scores\": results['train_recall'],\n",
    "              \"Mean Training Recall\": results['train_recall'].mean(),\n",
    "              \"Training F1 scores\": results['train_f1'],\n",
    "              \"Mean Training F1 Score\": results['train_f1'].mean(),\n",
    "              \"Validation Accuracy scores\": results['test_accuracy'],\n",
    "              \"Mean Validation Accuracy\": results['test_accuracy'].mean()*100,\n",
    "              \"Validation Precision scores\": results['test_precision'],\n",
    "              \"Mean Validation Precision\": results['test_precision'].mean(),\n",
    "              \"Validation Recall scores\": results['test_recall'],\n",
    "              \"Mean Validation Recall\": results['test_recall'].mean(),\n",
    "              \"Validation F1 scores\": results['test_f1'],\n",
    "              \"Mean Validation F1 Score\": results['test_f1'].mean()\n",
    "              }"
   ]
  },
  {
   "cell_type": "code",
   "execution_count": null,
   "id": "e8dbef78",
   "metadata": {
    "id": "8e94661a"
   },
   "outputs": [],
   "source": [
    "def plot_result(x_label, y_label, plot_title, train_data, val_data):\n",
    "    \n",
    "        plt.figure(figsize=(12,6))\n",
    "        labels = [\"Fold 1\", \"Fold 2\", \"Fold 3\", \"Fold 4\", \"Fold 5\", \"Fold 6\", \"Fold 7\", \"Fold 8\", \"Fold 9\", \"Fold 10\"]\n",
    "        X_axis = np.arange(len(labels))\n",
    "        ax = plt.gca()\n",
    "        plt.ylim(0.40000, 1)\n",
    "        plt.bar(X_axis-0.2, train_data, 0.4, color='#2DB350', label='Training')\n",
    "        plt.bar(X_axis+0.2, val_data, 0.4, color='#FF595E', label='Validation')\n",
    "        plt.title(plot_title, fontsize=30)\n",
    "        plt.xticks(X_axis, labels)\n",
    "        plt.xlabel(x_label, fontsize=14)\n",
    "        plt.ylabel(y_label, fontsize=14)\n",
    "        plt.legend()\n",
    "        plt.grid(True)\n",
    "        plt.show()"
   ]
  },
  {
   "cell_type": "markdown",
   "id": "61c33677",
   "metadata": {
    "id": "0da19d1f"
   },
   "source": [
    "# Árvore de Decisão"
   ]
  },
  {
   "cell_type": "code",
   "execution_count": null,
   "id": "e2d8077b",
   "metadata": {
    "id": "9554713f"
   },
   "outputs": [],
   "source": [
    "import numpy as np\n",
    "from sklearn.metrics import confusion_matrix\n",
    "from sklearn.tree import DecisionTreeClassifier\n",
    "from sklearn.metrics import accuracy_score\n",
    "from sklearn.metrics import classification_report\n",
    "from sklearn.model_selection import cross_validate\n"
   ]
  },
  {
   "cell_type": "code",
   "execution_count": null,
   "id": "26a90b59",
   "metadata": {
    "colab": {
     "base_uri": "https://localhost:8080/"
    },
    "id": "c1337af2",
    "outputId": "a33ddd29-b969-46cc-f42f-2fcb2d5c9436"
   },
   "outputs": [],
   "source": [
    "# classifcador\n",
    "clf_entropy = DecisionTreeClassifier(criterion=\"entropy\", random_state=1000, max_depth=3, min_samples_leaf=5)\n",
    "decision_tree_result = cross_validation(clf_entropy, df_upsampled, labels)\n",
    "print(decision_tree_result)"
   ]
  },
  {
   "cell_type": "code",
   "execution_count": null,
   "id": "1a5edaeb",
   "metadata": {
    "colab": {
     "base_uri": "https://localhost:8080/"
    },
    "id": "6f14dc1a",
    "outputId": "0f6c3b9e-71c6-4cf3-aba7-b9f73f5a9e92"
   },
   "outputs": [],
   "source": [
    "clf_entropy.fit(X_train, y_train)"
   ]
  },
  {
   "cell_type": "code",
   "execution_count": null,
   "id": "711f7534",
   "metadata": {
    "colab": {
     "base_uri": "https://localhost:8080/"
    },
    "id": "1c6c8208",
    "outputId": "3d097cc4-cfbc-40bf-b22d-70a15d5e1a30"
   },
   "outputs": [],
   "source": [
    "y_pred = clf_entropy.predict(X_test)\n",
    "print('predicted values:')\n",
    "print(y_pred)"
   ]
  },
  {
   "cell_type": "code",
   "execution_count": null,
   "id": "411c9287",
   "metadata": {
    "colab": {
     "base_uri": "https://localhost:8080/"
    },
    "id": "b3dd3c72",
    "outputId": "4c157b33-8ee0-486b-e9af-5345a5eb3be0"
   },
   "outputs": [],
   "source": [
    "print(\"Confusion Matrix: \",\n",
    "        confusion_matrix(y_test, y_pred))\n",
    "      \n",
    "print (\"Accuracy : \",\n",
    "accuracy_score(y_test,y_pred)*100)\n",
    "      \n",
    "print(\"Report : \",\n",
    "classification_report(y_test, y_pred))"
   ]
  },
  {
   "cell_type": "code",
   "execution_count": null,
   "id": "3fa936bc",
   "metadata": {
    "id": "a35122c8"
   },
   "outputs": [],
   "source": [
    "import matplotlib.pyplot as plt"
   ]
  },
  {
   "cell_type": "code",
   "execution_count": null,
   "id": "590db29d",
   "metadata": {
    "colab": {
     "base_uri": "https://localhost:8080/",
     "height": 1000
    },
    "id": "7e9f50f4",
    "outputId": "36eb86f8-563a-4971-d833-6ed2c090dcd4"
   },
   "outputs": [],
   "source": [
    "model_name = \"Decision Tree\"\n",
    "\n",
    "plot_result(model_name,\n",
    "            \"Accuracy\",\n",
    "            \"Accuracy scores in 5 Folds\",\n",
    "            decision_tree_result[\"Training Accuracy scores\"],\n",
    "            decision_tree_result[\"Validation Accuracy scores\"])\n",
    "\n",
    "plot_result('Precision',\n",
    "            \"Precision\",\n",
    "            \"Precision scores in 5 Folds\",\n",
    "            decision_tree_result[\"Training Precision scores\"],\n",
    "            decision_tree_result[\"Validation Precision scores\"])\n",
    "\n",
    "plot_result('Recall',\n",
    "            \"Recall\",\n",
    "            \"Recall scores in 5 Folds\",\n",
    "            decision_tree_result[\"Training Precision scores\"],\n",
    "            decision_tree_result[\"Validation Precision scores\"])\n",
    "\n",
    "plot_result('F1-Score',\n",
    "            \"F1\",\n",
    "            \"F1 Scores in 5 Folds\",\n",
    "            decision_tree_result[\"Training F1 scores\"],\n",
    "            decision_tree_result[\"Validation F1 scores\"])\n",
    "\n"
   ]
  },
  {
   "cell_type": "markdown",
   "id": "d7ff7148",
   "metadata": {
    "id": "76f05949"
   },
   "source": [
    "# Random Forest"
   ]
  },
  {
   "cell_type": "code",
   "execution_count": null,
   "id": "93154216",
   "metadata": {
    "id": "fb4a628c"
   },
   "outputs": [],
   "source": [
    "from sklearn.ensemble import RandomForestClassifier\n",
    "from sklearn.metrics import accuracy_score, recall_score, confusion_matrix"
   ]
  },
  {
   "cell_type": "code",
   "execution_count": null,
   "id": "e06b5889",
   "metadata": {
    "colab": {
     "base_uri": "https://localhost:8080/"
    },
    "id": "24e0fe62",
    "outputId": "63cd61ea-c15a-4aee-882b-de59445f157e"
   },
   "outputs": [],
   "source": [
    "rfc = RandomForestClassifier(n_estimators = 100, random_state = 42, min_samples_leaf=5)\n",
    "decision_tree_result = cross_validation(rfc, df_upsampled, labels)\n",
    "print(decision_tree_result)"
   ]
  },
  {
   "cell_type": "code",
   "execution_count": null,
   "id": "eabd99f1",
   "metadata": {
    "id": "d28a1dc6"
   },
   "outputs": [],
   "source": [
    "rfc.fit(X_train, y_train)\n",
    "y_pred = rfc.predict(X_test)"
   ]
  },
  {
   "cell_type": "code",
   "execution_count": null,
   "id": "0ccbef81",
   "metadata": {
    "colab": {
     "base_uri": "https://localhost:8080/"
    },
    "id": "77224287",
    "outputId": "6b19bb33-8582-4ef5-967b-3880e1872d3d"
   },
   "outputs": [],
   "source": [
    "print(\"Confusion Matrix: \",\n",
    "        confusion_matrix(y_test, y_pred))\n",
    "      \n",
    "print (\"Accuracy : \",\n",
    "accuracy_score(y_test,y_pred)*100)\n",
    "      \n",
    "print(\"Report : \",\n",
    "classification_report(y_test, y_pred))"
   ]
  },
  {
   "cell_type": "code",
   "execution_count": null,
   "id": "d8228613",
   "metadata": {
    "colab": {
     "base_uri": "https://localhost:8080/",
     "height": 1000
    },
    "id": "16350abe",
    "outputId": "5c858aac-8747-4c8b-aa1c-109180a790a8"
   },
   "outputs": [],
   "source": [
    "model_name = \"Random Forest\"\n",
    "plot_result(model_name,\n",
    "            \"Accuracy\",\n",
    "            \"Accuracy scores in 5 Folds\",\n",
    "            decision_tree_result[\"Training Accuracy scores\"],\n",
    "            decision_tree_result[\"Validation Accuracy scores\"])\n",
    "\n",
    "plot_result('Precision',\n",
    "            \"Precision\",\n",
    "            \"Precision scores in 5 Folds\",\n",
    "            decision_tree_result[\"Training Precision scores\"],\n",
    "            decision_tree_result[\"Validation Precision scores\"])\n",
    "\n",
    "plot_result('Recall',\n",
    "            \"Recall\",\n",
    "            \"Recall scores in 5 Folds\",\n",
    "            decision_tree_result[\"Training Precision scores\"],\n",
    "            decision_tree_result[\"Validation Precision scores\"])\n",
    "\n",
    "plot_result('F1-Score',\n",
    "            \"F1\",\n",
    "            \"F1 Scores in 5 Folds\",\n",
    "            decision_tree_result[\"Training F1 scores\"],\n",
    "            decision_tree_result[\"Validation F1 scores\"])"
   ]
  },
  {
   "cell_type": "code",
   "execution_count": null,
   "id": "80a6cca3",
   "metadata": {
    "id": "aec71158"
   },
   "outputs": [],
   "source": []
  }
 ],
 "metadata": {
  "colab": {
   "name": "Preprocesso_dados_IC_colab.ipynb",
   "provenance": []
  },
  "kernelspec": {
   "display_name": "Python 3 (ipykernel)",
   "language": "python",
   "name": "python3"
  },
  "language_info": {
   "codemirror_mode": {
    "name": "ipython",
    "version": 3
   },
   "file_extension": ".py",
   "mimetype": "text/x-python",
   "name": "python",
   "nbconvert_exporter": "python",
   "pygments_lexer": "ipython3",
   "version": "3.9.12"
  }
 },
 "nbformat": 4,
 "nbformat_minor": 5
}
