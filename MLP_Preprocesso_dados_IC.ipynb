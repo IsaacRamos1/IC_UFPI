{
 "cells": [
  {
   "cell_type": "code",
   "execution_count": 47,
   "id": "37602975",
   "metadata": {
    "id": "b3ae055c"
   },
   "outputs": [],
   "source": [
    "import pandas as pd"
   ]
  },
  {
   "cell_type": "code",
   "execution_count": 48,
   "id": "4e68a4c2",
   "metadata": {
    "id": "bab67c0b"
   },
   "outputs": [],
   "source": [
    "df = pd.read_csv('allvixm-val-data.csv', sep=';')"
   ]
  },
  {
   "cell_type": "code",
   "execution_count": 58,
   "id": "43fae27c",
   "metadata": {
    "colab": {
     "base_uri": "https://localhost:8080/",
     "height": 427
    },
    "id": "dd09a967",
    "outputId": "71e3e304-31ba-416b-902a-cd0284250075",
    "scrolled": false
   },
   "outputs": [
    {
     "data": {
      "text/html": [
       "<div>\n",
       "<style scoped>\n",
       "    .dataframe tbody tr th:only-of-type {\n",
       "        vertical-align: middle;\n",
       "    }\n",
       "\n",
       "    .dataframe tbody tr th {\n",
       "        vertical-align: top;\n",
       "    }\n",
       "\n",
       "    .dataframe thead th {\n",
       "        text-align: right;\n",
       "    }\n",
       "</style>\n",
       "<table border=\"1\" class=\"dataframe\">\n",
       "  <thead>\n",
       "    <tr style=\"text-align: right;\">\n",
       "      <th></th>\n",
       "      <th>id</th>\n",
       "      <th>donor_id</th>\n",
       "      <th>donor_hla</th>\n",
       "      <th>patient_id</th>\n",
       "      <th>patient_cpra</th>\n",
       "      <th>patient_hla</th>\n",
       "      <th>patient_single_cl1</th>\n",
       "      <th>patient_single_cl2</th>\n",
       "      <th>patient_mixed_cl1</th>\n",
       "      <th>patient_mixed_cl2</th>\n",
       "      <th>epv_result</th>\n",
       "      <th>cdc_result</th>\n",
       "    </tr>\n",
       "  </thead>\n",
       "  <tbody>\n",
       "    <tr>\n",
       "      <th>864</th>\n",
       "      <td>416001</td>\n",
       "      <td>276416-150</td>\n",
       "      <td>A*02:01,A*29:02,B*44:03,B*44:03,DRB1*07:01,DRB...</td>\n",
       "      <td>218860-2660</td>\n",
       "      <td>48</td>\n",
       "      <td>A*24:02,A*31:01,B*27:05,B*48:01,DRB1*03:01,DRB...</td>\n",
       "      <td>A*02:01,A*02:03,A*02:06,A*68:02,A*69:01,B*15:0...</td>\n",
       "      <td>DRB1*11:01,DRB1*11:04,DQB1*04:01,DQB1*04:02,DQ...</td>\n",
       "      <td>1</td>\n",
       "      <td>1</td>\n",
       "      <td>1</td>\n",
       "      <td>1</td>\n",
       "    </tr>\n",
       "    <tr>\n",
       "      <th>886</th>\n",
       "      <td>413042</td>\n",
       "      <td>274832-126</td>\n",
       "      <td>A*33:01,A*68:01,B*14:02,B*35:01,CW*04:01,CW*08...</td>\n",
       "      <td>158247-2660</td>\n",
       "      <td>53</td>\n",
       "      <td>A*02:01,A*68:02,B*35:01,B*57:01,DRB1*01:01,DRB...</td>\n",
       "      <td>A*29:01,A*29:02,B*15:12,B*45:01</td>\n",
       "      <td>DRB1*09:02,DRB1*10:01,DRB1*14:01,DRB1*14:54,DR...</td>\n",
       "      <td>1</td>\n",
       "      <td>1</td>\n",
       "      <td>1</td>\n",
       "      <td>0</td>\n",
       "    </tr>\n",
       "    <tr>\n",
       "      <th>890</th>\n",
       "      <td>412943</td>\n",
       "      <td>274832-126</td>\n",
       "      <td>A*33:01,A*68:01,B*14:02,B*35:01,CW*04:01,CW*08...</td>\n",
       "      <td>79045-2660</td>\n",
       "      <td>53</td>\n",
       "      <td>A*02:01,A*26:01,B*15:03,B*38:01,CW*02:02,CW*12...</td>\n",
       "      <td>A*11:01,A*11:02,A*30:01,A*30:02,A*31:01</td>\n",
       "      <td>DQB1*03:01,DQB1*03:02,DQB1*03:03</td>\n",
       "      <td>1</td>\n",
       "      <td>1</td>\n",
       "      <td>0</td>\n",
       "      <td>0</td>\n",
       "    </tr>\n",
       "    <tr>\n",
       "      <th>893</th>\n",
       "      <td>411517</td>\n",
       "      <td>274567-126</td>\n",
       "      <td>A*11:01,A*24:02,B*08:01,B*35:02,CW*04:01,CW*07...</td>\n",
       "      <td>254454-2660</td>\n",
       "      <td>89</td>\n",
       "      <td>A*02:01,A*69:01,B*15:01,B*44:02,DRB1*13:01,DRB...</td>\n",
       "      <td>A*01:01,A*29:01,A*29:02</td>\n",
       "      <td>DRB1*04:01,DRB1*04:02,DRB1*04:04,DRB1*04:05,DR...</td>\n",
       "      <td>-</td>\n",
       "      <td>-</td>\n",
       "      <td>0</td>\n",
       "      <td>0</td>\n",
       "    </tr>\n",
       "    <tr>\n",
       "      <th>907</th>\n",
       "      <td>408321</td>\n",
       "      <td>272836-126</td>\n",
       "      <td>A*02:01,A*26:01,B*18:01,B*39:05,CW*12:03,CW*12...</td>\n",
       "      <td>205756-2660</td>\n",
       "      <td>89</td>\n",
       "      <td>A*02:01,A*68:02,B*15:31,B*39:02,DRB1*11:02,DRB...</td>\n",
       "      <td>A*23:01,A*24:02,A*24:03,A*25:01,A*29:01,B*27:0...</td>\n",
       "      <td>DRB1*03:01,DRB1*03:02,DRB1*07:01,DRB1*09:01,DR...</td>\n",
       "      <td>1</td>\n",
       "      <td>1</td>\n",
       "      <td>0</td>\n",
       "      <td>0</td>\n",
       "    </tr>\n",
       "  </tbody>\n",
       "</table>\n",
       "</div>"
      ],
      "text/plain": [
       "         id    donor_id                                          donor_hla  \\\n",
       "864  416001  276416-150  A*02:01,A*29:02,B*44:03,B*44:03,DRB1*07:01,DRB...   \n",
       "886  413042  274832-126  A*33:01,A*68:01,B*14:02,B*35:01,CW*04:01,CW*08...   \n",
       "890  412943  274832-126  A*33:01,A*68:01,B*14:02,B*35:01,CW*04:01,CW*08...   \n",
       "893  411517  274567-126  A*11:01,A*24:02,B*08:01,B*35:02,CW*04:01,CW*07...   \n",
       "907  408321  272836-126  A*02:01,A*26:01,B*18:01,B*39:05,CW*12:03,CW*12...   \n",
       "\n",
       "      patient_id  patient_cpra  \\\n",
       "864  218860-2660            48   \n",
       "886  158247-2660            53   \n",
       "890   79045-2660            53   \n",
       "893  254454-2660            89   \n",
       "907  205756-2660            89   \n",
       "\n",
       "                                           patient_hla  \\\n",
       "864  A*24:02,A*31:01,B*27:05,B*48:01,DRB1*03:01,DRB...   \n",
       "886  A*02:01,A*68:02,B*35:01,B*57:01,DRB1*01:01,DRB...   \n",
       "890  A*02:01,A*26:01,B*15:03,B*38:01,CW*02:02,CW*12...   \n",
       "893  A*02:01,A*69:01,B*15:01,B*44:02,DRB1*13:01,DRB...   \n",
       "907  A*02:01,A*68:02,B*15:31,B*39:02,DRB1*11:02,DRB...   \n",
       "\n",
       "                                    patient_single_cl1  \\\n",
       "864  A*02:01,A*02:03,A*02:06,A*68:02,A*69:01,B*15:0...   \n",
       "886                    A*29:01,A*29:02,B*15:12,B*45:01   \n",
       "890            A*11:01,A*11:02,A*30:01,A*30:02,A*31:01   \n",
       "893                            A*01:01,A*29:01,A*29:02   \n",
       "907  A*23:01,A*24:02,A*24:03,A*25:01,A*29:01,B*27:0...   \n",
       "\n",
       "                                    patient_single_cl2 patient_mixed_cl1  \\\n",
       "864  DRB1*11:01,DRB1*11:04,DQB1*04:01,DQB1*04:02,DQ...                 1   \n",
       "886  DRB1*09:02,DRB1*10:01,DRB1*14:01,DRB1*14:54,DR...                 1   \n",
       "890                   DQB1*03:01,DQB1*03:02,DQB1*03:03                 1   \n",
       "893  DRB1*04:01,DRB1*04:02,DRB1*04:04,DRB1*04:05,DR...                 -   \n",
       "907  DRB1*03:01,DRB1*03:02,DRB1*07:01,DRB1*09:01,DR...                 1   \n",
       "\n",
       "    patient_mixed_cl2 epv_result  cdc_result  \n",
       "864                 1          1           1  \n",
       "886                 1          1           0  \n",
       "890                 1          0           0  \n",
       "893                 -          0           0  \n",
       "907                 1          0           0  "
      ]
     },
     "execution_count": 58,
     "metadata": {},
     "output_type": "execute_result"
    }
   ],
   "source": [
    "df.tail()"
   ]
  },
  {
   "cell_type": "code",
   "execution_count": null,
   "id": "9d17ce04",
   "metadata": {},
   "outputs": [],
   "source": [
    "def classificarColuna(nome):\n",
    "    data_array = [] ## array para pegar todas os dados diferentes da coluna\n",
    "    dict_dif_data = {} ## dict para classificar os 196 diferentes\n",
    "\n",
    "    for x in df[nome]:\n",
    "        if x not in data_array:\n",
    "            if x == 'NaN':\n",
    "                continue\n",
    "            else:\n",
    "                data_array.append(x)\n",
    "                \n",
    "    print(len(data_array))\n",
    "    \n",
    "    count = 0\n",
    "    for x in data_array:\n",
    "        dict_dif_data[x] = count\n",
    "        count += 1\n",
    "    \n",
    "    for x in range(len(df[nome])):\n",
    "        if str(dict_dif_data[df[nome][x]]) == 'NaN':\n",
    "            continue\n",
    "        else:\n",
    "            df[nome][x] = str(dict_dif_data[df[nome][x]])"
   ]
  },
  {
   "cell_type": "code",
   "execution_count": 53,
   "id": "26f3fa75",
   "metadata": {},
   "outputs": [],
   "source": [
    "classificarColuna('patient_single_cl1')\n",
    "classificarColuna('patient_single_cl2')"
   ]
  },
  {
   "cell_type": "code",
   "execution_count": 54,
   "id": "0170045a",
   "metadata": {},
   "outputs": [],
   "source": [
    "df_mod = df"
   ]
  },
  {
   "cell_type": "code",
   "execution_count": 55,
   "id": "6d72ae5b",
   "metadata": {},
   "outputs": [
    {
     "data": {
      "text/html": [
       "<div>\n",
       "<style scoped>\n",
       "    .dataframe tbody tr th:only-of-type {\n",
       "        vertical-align: middle;\n",
       "    }\n",
       "\n",
       "    .dataframe tbody tr th {\n",
       "        vertical-align: top;\n",
       "    }\n",
       "\n",
       "    .dataframe thead th {\n",
       "        text-align: right;\n",
       "    }\n",
       "</style>\n",
       "<table border=\"1\" class=\"dataframe\">\n",
       "  <thead>\n",
       "    <tr style=\"text-align: right;\">\n",
       "      <th></th>\n",
       "      <th>id</th>\n",
       "      <th>donor_id</th>\n",
       "      <th>donor_hla</th>\n",
       "      <th>patient_id</th>\n",
       "      <th>patient_cpra</th>\n",
       "      <th>patient_hla</th>\n",
       "      <th>patient_single_cl1</th>\n",
       "      <th>patient_single_cl2</th>\n",
       "      <th>patient_mixed_cl1</th>\n",
       "      <th>patient_mixed_cl2</th>\n",
       "      <th>epv_result</th>\n",
       "      <th>cdc_result</th>\n",
       "    </tr>\n",
       "  </thead>\n",
       "  <tbody>\n",
       "    <tr>\n",
       "      <th>0</th>\n",
       "      <td>558716</td>\n",
       "      <td>308155-126</td>\n",
       "      <td>A*03:01,A*80:01,B*35:03,B*44:03,CW*04:01,CW*04...</td>\n",
       "      <td>71334-2660</td>\n",
       "      <td>91</td>\n",
       "      <td>A*29:02,A*30:02,B*51:01,B*58:01,DRB1*13:01,DRB...</td>\n",
       "      <td>A*01:01,A*02:01,A*02:03,A*02:06,A*11:01,A*11:0...</td>\n",
       "      <td>DPB1*01:01,DPB1*05:01,DPB1*03:01,DPB1*06:01,DP...</td>\n",
       "      <td>1</td>\n",
       "      <td>1</td>\n",
       "      <td>0</td>\n",
       "      <td>0</td>\n",
       "    </tr>\n",
       "    <tr>\n",
       "      <th>1</th>\n",
       "      <td>558658</td>\n",
       "      <td>308155-126</td>\n",
       "      <td>A*03:01,A*80:01,B*35:03,B*44:03,CW*04:01,CW*04...</td>\n",
       "      <td>205670-2660</td>\n",
       "      <td>75</td>\n",
       "      <td>A*02:01,A*02:01,B*15:16,B*40:04,DRB1*07:01,DRB...</td>\n",
       "      <td>A*01:01,A*23:01,A*24:02,A*24:03,A*80:01</td>\n",
       "      <td>DRB1*13:03,DRB1*12:02,DRB1*14:54,DRB1*14:01,DR...</td>\n",
       "      <td>-</td>\n",
       "      <td>-</td>\n",
       "      <td>1</td>\n",
       "      <td>0</td>\n",
       "    </tr>\n",
       "    <tr>\n",
       "      <th>5</th>\n",
       "      <td>558654</td>\n",
       "      <td>308155-126</td>\n",
       "      <td>A*03:01,A*80:01,B*35:03,B*44:03,CW*04:01,CW*04...</td>\n",
       "      <td>235944-2660</td>\n",
       "      <td>49</td>\n",
       "      <td>A*02:01,A*74:01,B*35:01,B*50:01,DRB1*07:01,DRB...</td>\n",
       "      <td>A*23:01,A*24:02,A*24:03,A*25:01,A*29:01,B*27:0...</td>\n",
       "      <td>DRB1*03:01,DRB1*03:02,DRB1*08:01,DRB1*11:01,DR...</td>\n",
       "      <td>-</td>\n",
       "      <td>-</td>\n",
       "      <td>1</td>\n",
       "      <td>1</td>\n",
       "    </tr>\n",
       "    <tr>\n",
       "      <th>13</th>\n",
       "      <td>556942</td>\n",
       "      <td>307926-126</td>\n",
       "      <td>A*31:01,A*31:01,B*15:01,B*35:01,CW*03:03,CW*04...</td>\n",
       "      <td>222584-2660</td>\n",
       "      <td>98</td>\n",
       "      <td>A*30:02,A*68:01,B*18:01,B*35:01,DRB1*08:01,DRB...</td>\n",
       "      <td>A*01:01,A*03:01,A*11:01,A*11:02,A*23:01,A*24:0...</td>\n",
       "      <td>DRB1*01:01,DRB1*01:02,DRB1*01:03,DRB1*04:01,DR...</td>\n",
       "      <td>1</td>\n",
       "      <td>1</td>\n",
       "      <td>1</td>\n",
       "      <td>0</td>\n",
       "    </tr>\n",
       "    <tr>\n",
       "      <th>15</th>\n",
       "      <td>556938</td>\n",
       "      <td>307926-126</td>\n",
       "      <td>A*31:01,A*31:01,B*15:01,B*35:01,CW*03:03,CW*04...</td>\n",
       "      <td>230774-2660</td>\n",
       "      <td>83</td>\n",
       "      <td>A*24:02,A*30:02,B*14:02,B*44:02,DRB1*04:04,DRB...</td>\n",
       "      <td>A*01:01,A*02:01,A*02:03,A*02:06,A*03:01,A*11:0...</td>\n",
       "      <td>DRB1*07:01,DRB1*12:01,DRB1*12:02,DRB1*16:02,DR...</td>\n",
       "      <td>-</td>\n",
       "      <td>-</td>\n",
       "      <td>1</td>\n",
       "      <td>1</td>\n",
       "    </tr>\n",
       "    <tr>\n",
       "      <th>...</th>\n",
       "      <td>...</td>\n",
       "      <td>...</td>\n",
       "      <td>...</td>\n",
       "      <td>...</td>\n",
       "      <td>...</td>\n",
       "      <td>...</td>\n",
       "      <td>...</td>\n",
       "      <td>...</td>\n",
       "      <td>...</td>\n",
       "      <td>...</td>\n",
       "      <td>...</td>\n",
       "      <td>...</td>\n",
       "    </tr>\n",
       "    <tr>\n",
       "      <th>864</th>\n",
       "      <td>416001</td>\n",
       "      <td>276416-150</td>\n",
       "      <td>A*02:01,A*29:02,B*44:03,B*44:03,DRB1*07:01,DRB...</td>\n",
       "      <td>218860-2660</td>\n",
       "      <td>48</td>\n",
       "      <td>A*24:02,A*31:01,B*27:05,B*48:01,DRB1*03:01,DRB...</td>\n",
       "      <td>A*02:01,A*02:03,A*02:06,A*68:02,A*69:01,B*15:0...</td>\n",
       "      <td>DRB1*11:01,DRB1*11:04,DQB1*04:01,DQB1*04:02,DQ...</td>\n",
       "      <td>1</td>\n",
       "      <td>1</td>\n",
       "      <td>1</td>\n",
       "      <td>1</td>\n",
       "    </tr>\n",
       "    <tr>\n",
       "      <th>886</th>\n",
       "      <td>413042</td>\n",
       "      <td>274832-126</td>\n",
       "      <td>A*33:01,A*68:01,B*14:02,B*35:01,CW*04:01,CW*08...</td>\n",
       "      <td>158247-2660</td>\n",
       "      <td>53</td>\n",
       "      <td>A*02:01,A*68:02,B*35:01,B*57:01,DRB1*01:01,DRB...</td>\n",
       "      <td>A*29:01,A*29:02,B*15:12,B*45:01</td>\n",
       "      <td>DRB1*09:02,DRB1*10:01,DRB1*14:01,DRB1*14:54,DR...</td>\n",
       "      <td>1</td>\n",
       "      <td>1</td>\n",
       "      <td>1</td>\n",
       "      <td>0</td>\n",
       "    </tr>\n",
       "    <tr>\n",
       "      <th>890</th>\n",
       "      <td>412943</td>\n",
       "      <td>274832-126</td>\n",
       "      <td>A*33:01,A*68:01,B*14:02,B*35:01,CW*04:01,CW*08...</td>\n",
       "      <td>79045-2660</td>\n",
       "      <td>53</td>\n",
       "      <td>A*02:01,A*26:01,B*15:03,B*38:01,CW*02:02,CW*12...</td>\n",
       "      <td>A*11:01,A*11:02,A*30:01,A*30:02,A*31:01</td>\n",
       "      <td>DQB1*03:01,DQB1*03:02,DQB1*03:03</td>\n",
       "      <td>1</td>\n",
       "      <td>1</td>\n",
       "      <td>0</td>\n",
       "      <td>0</td>\n",
       "    </tr>\n",
       "    <tr>\n",
       "      <th>893</th>\n",
       "      <td>411517</td>\n",
       "      <td>274567-126</td>\n",
       "      <td>A*11:01,A*24:02,B*08:01,B*35:02,CW*04:01,CW*07...</td>\n",
       "      <td>254454-2660</td>\n",
       "      <td>89</td>\n",
       "      <td>A*02:01,A*69:01,B*15:01,B*44:02,DRB1*13:01,DRB...</td>\n",
       "      <td>A*01:01,A*29:01,A*29:02</td>\n",
       "      <td>DRB1*04:01,DRB1*04:02,DRB1*04:04,DRB1*04:05,DR...</td>\n",
       "      <td>-</td>\n",
       "      <td>-</td>\n",
       "      <td>0</td>\n",
       "      <td>0</td>\n",
       "    </tr>\n",
       "    <tr>\n",
       "      <th>907</th>\n",
       "      <td>408321</td>\n",
       "      <td>272836-126</td>\n",
       "      <td>A*02:01,A*26:01,B*18:01,B*39:05,CW*12:03,CW*12...</td>\n",
       "      <td>205756-2660</td>\n",
       "      <td>89</td>\n",
       "      <td>A*02:01,A*68:02,B*15:31,B*39:02,DRB1*11:02,DRB...</td>\n",
       "      <td>A*23:01,A*24:02,A*24:03,A*25:01,A*29:01,B*27:0...</td>\n",
       "      <td>DRB1*03:01,DRB1*03:02,DRB1*07:01,DRB1*09:01,DR...</td>\n",
       "      <td>1</td>\n",
       "      <td>1</td>\n",
       "      <td>0</td>\n",
       "      <td>0</td>\n",
       "    </tr>\n",
       "  </tbody>\n",
       "</table>\n",
       "<p>108 rows × 12 columns</p>\n",
       "</div>"
      ],
      "text/plain": [
       "         id    donor_id                                          donor_hla  \\\n",
       "0    558716  308155-126  A*03:01,A*80:01,B*35:03,B*44:03,CW*04:01,CW*04...   \n",
       "1    558658  308155-126  A*03:01,A*80:01,B*35:03,B*44:03,CW*04:01,CW*04...   \n",
       "5    558654  308155-126  A*03:01,A*80:01,B*35:03,B*44:03,CW*04:01,CW*04...   \n",
       "13   556942  307926-126  A*31:01,A*31:01,B*15:01,B*35:01,CW*03:03,CW*04...   \n",
       "15   556938  307926-126  A*31:01,A*31:01,B*15:01,B*35:01,CW*03:03,CW*04...   \n",
       "..      ...         ...                                                ...   \n",
       "864  416001  276416-150  A*02:01,A*29:02,B*44:03,B*44:03,DRB1*07:01,DRB...   \n",
       "886  413042  274832-126  A*33:01,A*68:01,B*14:02,B*35:01,CW*04:01,CW*08...   \n",
       "890  412943  274832-126  A*33:01,A*68:01,B*14:02,B*35:01,CW*04:01,CW*08...   \n",
       "893  411517  274567-126  A*11:01,A*24:02,B*08:01,B*35:02,CW*04:01,CW*07...   \n",
       "907  408321  272836-126  A*02:01,A*26:01,B*18:01,B*39:05,CW*12:03,CW*12...   \n",
       "\n",
       "      patient_id  patient_cpra  \\\n",
       "0     71334-2660            91   \n",
       "1    205670-2660            75   \n",
       "5    235944-2660            49   \n",
       "13   222584-2660            98   \n",
       "15   230774-2660            83   \n",
       "..           ...           ...   \n",
       "864  218860-2660            48   \n",
       "886  158247-2660            53   \n",
       "890   79045-2660            53   \n",
       "893  254454-2660            89   \n",
       "907  205756-2660            89   \n",
       "\n",
       "                                           patient_hla  \\\n",
       "0    A*29:02,A*30:02,B*51:01,B*58:01,DRB1*13:01,DRB...   \n",
       "1    A*02:01,A*02:01,B*15:16,B*40:04,DRB1*07:01,DRB...   \n",
       "5    A*02:01,A*74:01,B*35:01,B*50:01,DRB1*07:01,DRB...   \n",
       "13   A*30:02,A*68:01,B*18:01,B*35:01,DRB1*08:01,DRB...   \n",
       "15   A*24:02,A*30:02,B*14:02,B*44:02,DRB1*04:04,DRB...   \n",
       "..                                                 ...   \n",
       "864  A*24:02,A*31:01,B*27:05,B*48:01,DRB1*03:01,DRB...   \n",
       "886  A*02:01,A*68:02,B*35:01,B*57:01,DRB1*01:01,DRB...   \n",
       "890  A*02:01,A*26:01,B*15:03,B*38:01,CW*02:02,CW*12...   \n",
       "893  A*02:01,A*69:01,B*15:01,B*44:02,DRB1*13:01,DRB...   \n",
       "907  A*02:01,A*68:02,B*15:31,B*39:02,DRB1*11:02,DRB...   \n",
       "\n",
       "                                    patient_single_cl1  \\\n",
       "0    A*01:01,A*02:01,A*02:03,A*02:06,A*11:01,A*11:0...   \n",
       "1              A*01:01,A*23:01,A*24:02,A*24:03,A*80:01   \n",
       "5    A*23:01,A*24:02,A*24:03,A*25:01,A*29:01,B*27:0...   \n",
       "13   A*01:01,A*03:01,A*11:01,A*11:02,A*23:01,A*24:0...   \n",
       "15   A*01:01,A*02:01,A*02:03,A*02:06,A*03:01,A*11:0...   \n",
       "..                                                 ...   \n",
       "864  A*02:01,A*02:03,A*02:06,A*68:02,A*69:01,B*15:0...   \n",
       "886                    A*29:01,A*29:02,B*15:12,B*45:01   \n",
       "890            A*11:01,A*11:02,A*30:01,A*30:02,A*31:01   \n",
       "893                            A*01:01,A*29:01,A*29:02   \n",
       "907  A*23:01,A*24:02,A*24:03,A*25:01,A*29:01,B*27:0...   \n",
       "\n",
       "                                    patient_single_cl2 patient_mixed_cl1  \\\n",
       "0    DPB1*01:01,DPB1*05:01,DPB1*03:01,DPB1*06:01,DP...                 1   \n",
       "1    DRB1*13:03,DRB1*12:02,DRB1*14:54,DRB1*14:01,DR...                 -   \n",
       "5    DRB1*03:01,DRB1*03:02,DRB1*08:01,DRB1*11:01,DR...                 -   \n",
       "13   DRB1*01:01,DRB1*01:02,DRB1*01:03,DRB1*04:01,DR...                 1   \n",
       "15   DRB1*07:01,DRB1*12:01,DRB1*12:02,DRB1*16:02,DR...                 -   \n",
       "..                                                 ...               ...   \n",
       "864  DRB1*11:01,DRB1*11:04,DQB1*04:01,DQB1*04:02,DQ...                 1   \n",
       "886  DRB1*09:02,DRB1*10:01,DRB1*14:01,DRB1*14:54,DR...                 1   \n",
       "890                   DQB1*03:01,DQB1*03:02,DQB1*03:03                 1   \n",
       "893  DRB1*04:01,DRB1*04:02,DRB1*04:04,DRB1*04:05,DR...                 -   \n",
       "907  DRB1*03:01,DRB1*03:02,DRB1*07:01,DRB1*09:01,DR...                 1   \n",
       "\n",
       "    patient_mixed_cl2 epv_result  cdc_result  \n",
       "0                   1          0           0  \n",
       "1                   -          1           0  \n",
       "5                   -          1           1  \n",
       "13                  1          1           0  \n",
       "15                  -          1           1  \n",
       "..                ...        ...         ...  \n",
       "864                 1          1           1  \n",
       "886                 1          1           0  \n",
       "890                 1          0           0  \n",
       "893                 -          0           0  \n",
       "907                 1          0           0  \n",
       "\n",
       "[108 rows x 12 columns]"
      ]
     },
     "execution_count": 55,
     "metadata": {},
     "output_type": "execute_result"
    }
   ],
   "source": [
    "df_mod"
   ]
  },
  {
   "cell_type": "code",
   "execution_count": 44,
   "id": "7cb09184",
   "metadata": {
    "id": "2e4ecbf0"
   },
   "outputs": [],
   "source": [
    "def classificarColuna(nome, df_mod):\n",
    "    data_array = [] ## array para pegar todas os dados diferentes da coluna\n",
    "    dict_dif_data = {} ## dict para classificar os 196 diferentes\n",
    "\n",
    "    for x in df_mod[nome]:\n",
    "        if x not in data_array:\n",
    "            if x == 'NaN':\n",
    "                continue\n",
    "            else:\n",
    "                data_array.append(x)\n",
    "                \n",
    "    print(len(data_array))\n",
    "    \n",
    "    count = 0\n",
    "    for x in data_array:\n",
    "        dict_dif_data[x] = count\n",
    "        count += 1\n",
    "    \n",
    "    for x in range(len(df_mod[nome])):\n",
    "        if str(dict_dif_data[df_mod[nome][x]]) == 'NaN':\n",
    "            continue\n",
    "        else:\n",
    "            df_mod[nome][x] = str(dict_dif_data[df_mod[nome][x]])"
   ]
  },
  {
   "cell_type": "code",
   "execution_count": null,
   "id": "ca5ecd66",
   "metadata": {
    "id": "9ab6d760"
   },
   "outputs": [],
   "source": []
  },
  {
   "cell_type": "code",
   "execution_count": 45,
   "id": "031926ac",
   "metadata": {},
   "outputs": [
    {
     "name": "stdout",
     "output_type": "stream",
     "text": [
      "105\n"
     ]
    },
    {
     "name": "stderr",
     "output_type": "stream",
     "text": [
      "C:\\Users\\isac_\\anaconda3\\envs\\gpu2\\lib\\site-packages\\ipykernel_launcher.py:23: SettingWithCopyWarning: \n",
      "A value is trying to be set on a copy of a slice from a DataFrame\n",
      "\n",
      "See the caveats in the documentation: https://pandas.pydata.org/pandas-docs/stable/user_guide/indexing.html#returning-a-view-versus-a-copy\n"
     ]
    },
    {
     "ename": "KeyError",
     "evalue": "2",
     "output_type": "error",
     "traceback": [
      "\u001b[1;31m---------------------------------------------------------------------------\u001b[0m",
      "\u001b[1;31mKeyError\u001b[0m                                  Traceback (most recent call last)",
      "\u001b[1;32m~\\anaconda3\\envs\\gpu2\\lib\\site-packages\\pandas\\core\\indexes\\base.py\u001b[0m in \u001b[0;36mget_loc\u001b[1;34m(self, key, method, tolerance)\u001b[0m\n\u001b[0;32m   2897\u001b[0m             \u001b[1;32mtry\u001b[0m\u001b[1;33m:\u001b[0m\u001b[1;33m\u001b[0m\u001b[1;33m\u001b[0m\u001b[0m\n\u001b[1;32m-> 2898\u001b[1;33m                 \u001b[1;32mreturn\u001b[0m \u001b[0mself\u001b[0m\u001b[1;33m.\u001b[0m\u001b[0m_engine\u001b[0m\u001b[1;33m.\u001b[0m\u001b[0mget_loc\u001b[0m\u001b[1;33m(\u001b[0m\u001b[0mcasted_key\u001b[0m\u001b[1;33m)\u001b[0m\u001b[1;33m\u001b[0m\u001b[1;33m\u001b[0m\u001b[0m\n\u001b[0m\u001b[0;32m   2899\u001b[0m             \u001b[1;32mexcept\u001b[0m \u001b[0mKeyError\u001b[0m \u001b[1;32mas\u001b[0m \u001b[0merr\u001b[0m\u001b[1;33m:\u001b[0m\u001b[1;33m\u001b[0m\u001b[1;33m\u001b[0m\u001b[0m\n",
      "\u001b[1;32mpandas\\_libs\\index.pyx\u001b[0m in \u001b[0;36mpandas._libs.index.IndexEngine.get_loc\u001b[1;34m()\u001b[0m\n",
      "\u001b[1;32mpandas\\_libs\\index.pyx\u001b[0m in \u001b[0;36mpandas._libs.index.IndexEngine.get_loc\u001b[1;34m()\u001b[0m\n",
      "\u001b[1;32mpandas\\_libs\\hashtable_class_helper.pxi\u001b[0m in \u001b[0;36mpandas._libs.hashtable.Int64HashTable.get_item\u001b[1;34m()\u001b[0m\n",
      "\u001b[1;32mpandas\\_libs\\hashtable_class_helper.pxi\u001b[0m in \u001b[0;36mpandas._libs.hashtable.Int64HashTable.get_item\u001b[1;34m()\u001b[0m\n",
      "\u001b[1;31mKeyError\u001b[0m: 2",
      "\nThe above exception was the direct cause of the following exception:\n",
      "\u001b[1;31mKeyError\u001b[0m                                  Traceback (most recent call last)",
      "\u001b[1;32m<ipython-input-45-6421dc4bbdc6>\u001b[0m in \u001b[0;36m<module>\u001b[1;34m\u001b[0m\n\u001b[1;32m----> 1\u001b[1;33m \u001b[0mclassificarColuna\u001b[0m\u001b[1;33m(\u001b[0m\u001b[1;34m'patient_single_cl1'\u001b[0m\u001b[1;33m,\u001b[0m \u001b[0mdf_mod\u001b[0m\u001b[1;33m)\u001b[0m\u001b[1;33m\u001b[0m\u001b[1;33m\u001b[0m\u001b[0m\n\u001b[0m\u001b[0;32m      2\u001b[0m \u001b[0mclassificarColuna\u001b[0m\u001b[1;33m(\u001b[0m\u001b[1;34m'patient_single_cl2'\u001b[0m\u001b[1;33m,\u001b[0m \u001b[0mdf_mod\u001b[0m\u001b[1;33m)\u001b[0m\u001b[1;33m\u001b[0m\u001b[1;33m\u001b[0m\u001b[0m\n",
      "\u001b[1;32m<ipython-input-44-4688613d58a8>\u001b[0m in \u001b[0;36mclassificarColuna\u001b[1;34m(nome, df_mod)\u001b[0m\n\u001b[0;32m     18\u001b[0m \u001b[1;33m\u001b[0m\u001b[0m\n\u001b[0;32m     19\u001b[0m     \u001b[1;32mfor\u001b[0m \u001b[0mx\u001b[0m \u001b[1;32min\u001b[0m \u001b[0mrange\u001b[0m\u001b[1;33m(\u001b[0m\u001b[0mlen\u001b[0m\u001b[1;33m(\u001b[0m\u001b[0mdf_mod\u001b[0m\u001b[1;33m[\u001b[0m\u001b[0mnome\u001b[0m\u001b[1;33m]\u001b[0m\u001b[1;33m)\u001b[0m\u001b[1;33m)\u001b[0m\u001b[1;33m:\u001b[0m\u001b[1;33m\u001b[0m\u001b[1;33m\u001b[0m\u001b[0m\n\u001b[1;32m---> 20\u001b[1;33m         \u001b[1;32mif\u001b[0m \u001b[0mstr\u001b[0m\u001b[1;33m(\u001b[0m\u001b[0mdict_dif_data\u001b[0m\u001b[1;33m[\u001b[0m\u001b[0mdf_mod\u001b[0m\u001b[1;33m[\u001b[0m\u001b[0mnome\u001b[0m\u001b[1;33m]\u001b[0m\u001b[1;33m[\u001b[0m\u001b[0mx\u001b[0m\u001b[1;33m]\u001b[0m\u001b[1;33m]\u001b[0m\u001b[1;33m)\u001b[0m \u001b[1;33m==\u001b[0m \u001b[1;34m'NaN'\u001b[0m\u001b[1;33m:\u001b[0m\u001b[1;33m\u001b[0m\u001b[1;33m\u001b[0m\u001b[0m\n\u001b[0m\u001b[0;32m     21\u001b[0m             \u001b[1;32mcontinue\u001b[0m\u001b[1;33m\u001b[0m\u001b[1;33m\u001b[0m\u001b[0m\n\u001b[0;32m     22\u001b[0m         \u001b[1;32melse\u001b[0m\u001b[1;33m:\u001b[0m\u001b[1;33m\u001b[0m\u001b[1;33m\u001b[0m\u001b[0m\n",
      "\u001b[1;32m~\\anaconda3\\envs\\gpu2\\lib\\site-packages\\pandas\\core\\series.py\u001b[0m in \u001b[0;36m__getitem__\u001b[1;34m(self, key)\u001b[0m\n\u001b[0;32m    880\u001b[0m \u001b[1;33m\u001b[0m\u001b[0m\n\u001b[0;32m    881\u001b[0m         \u001b[1;32melif\u001b[0m \u001b[0mkey_is_scalar\u001b[0m\u001b[1;33m:\u001b[0m\u001b[1;33m\u001b[0m\u001b[1;33m\u001b[0m\u001b[0m\n\u001b[1;32m--> 882\u001b[1;33m             \u001b[1;32mreturn\u001b[0m \u001b[0mself\u001b[0m\u001b[1;33m.\u001b[0m\u001b[0m_get_value\u001b[0m\u001b[1;33m(\u001b[0m\u001b[0mkey\u001b[0m\u001b[1;33m)\u001b[0m\u001b[1;33m\u001b[0m\u001b[1;33m\u001b[0m\u001b[0m\n\u001b[0m\u001b[0;32m    883\u001b[0m \u001b[1;33m\u001b[0m\u001b[0m\n\u001b[0;32m    884\u001b[0m         \u001b[1;32mif\u001b[0m \u001b[0mis_hashable\u001b[0m\u001b[1;33m(\u001b[0m\u001b[0mkey\u001b[0m\u001b[1;33m)\u001b[0m\u001b[1;33m:\u001b[0m\u001b[1;33m\u001b[0m\u001b[1;33m\u001b[0m\u001b[0m\n",
      "\u001b[1;32m~\\anaconda3\\envs\\gpu2\\lib\\site-packages\\pandas\\core\\series.py\u001b[0m in \u001b[0;36m_get_value\u001b[1;34m(self, label, takeable)\u001b[0m\n\u001b[0;32m    988\u001b[0m \u001b[1;33m\u001b[0m\u001b[0m\n\u001b[0;32m    989\u001b[0m         \u001b[1;31m# Similar to Index.get_value, but we do not fall back to positional\u001b[0m\u001b[1;33m\u001b[0m\u001b[1;33m\u001b[0m\u001b[1;33m\u001b[0m\u001b[0m\n\u001b[1;32m--> 990\u001b[1;33m         \u001b[0mloc\u001b[0m \u001b[1;33m=\u001b[0m \u001b[0mself\u001b[0m\u001b[1;33m.\u001b[0m\u001b[0mindex\u001b[0m\u001b[1;33m.\u001b[0m\u001b[0mget_loc\u001b[0m\u001b[1;33m(\u001b[0m\u001b[0mlabel\u001b[0m\u001b[1;33m)\u001b[0m\u001b[1;33m\u001b[0m\u001b[1;33m\u001b[0m\u001b[0m\n\u001b[0m\u001b[0;32m    991\u001b[0m         \u001b[1;32mreturn\u001b[0m \u001b[0mself\u001b[0m\u001b[1;33m.\u001b[0m\u001b[0mindex\u001b[0m\u001b[1;33m.\u001b[0m\u001b[0m_get_values_for_loc\u001b[0m\u001b[1;33m(\u001b[0m\u001b[0mself\u001b[0m\u001b[1;33m,\u001b[0m \u001b[0mloc\u001b[0m\u001b[1;33m,\u001b[0m \u001b[0mlabel\u001b[0m\u001b[1;33m)\u001b[0m\u001b[1;33m\u001b[0m\u001b[1;33m\u001b[0m\u001b[0m\n\u001b[0;32m    992\u001b[0m \u001b[1;33m\u001b[0m\u001b[0m\n",
      "\u001b[1;32m~\\anaconda3\\envs\\gpu2\\lib\\site-packages\\pandas\\core\\indexes\\base.py\u001b[0m in \u001b[0;36mget_loc\u001b[1;34m(self, key, method, tolerance)\u001b[0m\n\u001b[0;32m   2898\u001b[0m                 \u001b[1;32mreturn\u001b[0m \u001b[0mself\u001b[0m\u001b[1;33m.\u001b[0m\u001b[0m_engine\u001b[0m\u001b[1;33m.\u001b[0m\u001b[0mget_loc\u001b[0m\u001b[1;33m(\u001b[0m\u001b[0mcasted_key\u001b[0m\u001b[1;33m)\u001b[0m\u001b[1;33m\u001b[0m\u001b[1;33m\u001b[0m\u001b[0m\n\u001b[0;32m   2899\u001b[0m             \u001b[1;32mexcept\u001b[0m \u001b[0mKeyError\u001b[0m \u001b[1;32mas\u001b[0m \u001b[0merr\u001b[0m\u001b[1;33m:\u001b[0m\u001b[1;33m\u001b[0m\u001b[1;33m\u001b[0m\u001b[0m\n\u001b[1;32m-> 2900\u001b[1;33m                 \u001b[1;32mraise\u001b[0m \u001b[0mKeyError\u001b[0m\u001b[1;33m(\u001b[0m\u001b[0mkey\u001b[0m\u001b[1;33m)\u001b[0m \u001b[1;32mfrom\u001b[0m \u001b[0merr\u001b[0m\u001b[1;33m\u001b[0m\u001b[1;33m\u001b[0m\u001b[0m\n\u001b[0m\u001b[0;32m   2901\u001b[0m \u001b[1;33m\u001b[0m\u001b[0m\n\u001b[0;32m   2902\u001b[0m         \u001b[1;32mif\u001b[0m \u001b[0mtolerance\u001b[0m \u001b[1;32mis\u001b[0m \u001b[1;32mnot\u001b[0m \u001b[1;32mNone\u001b[0m\u001b[1;33m:\u001b[0m\u001b[1;33m\u001b[0m\u001b[1;33m\u001b[0m\u001b[0m\n",
      "\u001b[1;31mKeyError\u001b[0m: 2"
     ]
    }
   ],
   "source": [
    "classificarColuna('patient_single_cl1', df_mod)\n",
    "classificarColuna('patient_single_cl2', df_mod)"
   ]
  },
  {
   "cell_type": "code",
   "execution_count": null,
   "id": "41bb3fb9",
   "metadata": {
    "colab": {
     "base_uri": "https://localhost:8080/",
     "height": 270
    },
    "id": "2ec27436",
    "outputId": "f5248ee3-3d2f-4a69-9e58-b2f1ba19541a"
   },
   "outputs": [],
   "source": [
    "df_mod.head()"
   ]
  },
  {
   "cell_type": "code",
   "execution_count": null,
   "id": "8cf13656",
   "metadata": {
    "id": "1c338cda"
   },
   "outputs": [],
   "source": [
    "def pares(iterable):\n",
    "    a = iter(iterable)\n",
    "    return zip(a, a)"
   ]
  },
  {
   "cell_type": "code",
   "execution_count": null,
   "id": "eebe3aed",
   "metadata": {
    "id": "f1c65f68"
   },
   "outputs": [],
   "source": [
    "for x in range(6):\n",
    "    df_mod['patient_hla'+str(x)] = \" \"\n",
    "    \n",
    "for x in range(9):\n",
    "    df_mod['donor_hla'+str(x)] = \" \"    "
   ]
  },
  {
   "cell_type": "code",
   "execution_count": null,
   "id": "667d6441",
   "metadata": {
    "colab": {
     "base_uri": "https://localhost:8080/",
     "height": 300
    },
    "id": "2944247b",
    "outputId": "e6895231-014b-44b0-a45a-37e7c52385bd"
   },
   "outputs": [],
   "source": [
    "df_mod.head()"
   ]
  },
  {
   "cell_type": "code",
   "execution_count": null,
   "id": "ebde1904",
   "metadata": {
    "id": "6a289ce7"
   },
   "outputs": [],
   "source": [
    "import time"
   ]
  },
  {
   "cell_type": "code",
   "execution_count": null,
   "id": "a23b9560",
   "metadata": {},
   "outputs": [],
   "source": [
    "def classificarColuna(nome):\n",
    "    data_array = [] ## array para pegar todas os dados diferentes da coluna\n",
    "    dict_dif_data = {} ## dict para classificar os 196 diferentes\n",
    "\n",
    "    for x in df[nome]:\n",
    "        if x not in data_array:\n",
    "            if x == 'NaN':\n",
    "                continue\n",
    "            else:\n",
    "                data_array.append(x)\n",
    "                \n",
    "    print(len(data_array))\n",
    "    \n",
    "    count = 0\n",
    "    for x in data_array:\n",
    "        dict_dif_data[x] = count\n",
    "        count += 1\n",
    "    \n",
    "    for x in range(len(df[nome])):\n",
    "        if str(dict_dif_data[df[nome][x]]) == 'nan':\n",
    "            continue\n",
    "        else:\n",
    "            df[nome][x] = str(dict_dif_data[df[nome][x]])"
   ]
  },
  {
   "cell_type": "code",
   "execution_count": null,
   "id": "d498ed5b",
   "metadata": {},
   "outputs": [],
   "source": [
    "classificarColuna('patient_single_cl1')\n",
    "classificarColuna('patient_single_cl2')"
   ]
  },
  {
   "cell_type": "code",
   "execution_count": null,
   "id": "0210b470",
   "metadata": {
    "id": "f88756ec"
   },
   "outputs": [],
   "source": [
    "def dividir_patient_hla(j):\n",
    "    transform = []\n",
    "    for i in range(len(df_mod)):\n",
    "        patient_hla = df_mod['patient_hla'][i].split(\",\")\n",
    "        \n",
    "        if len(patient_hla) < 12:\n",
    "            for z in range(12 - len(patient_hla)):\n",
    "                patient_hla.append(\"-\")\n",
    "                \n",
    "        for x, y in pares(patient_hla):\n",
    "            transform.append([x,y])\n",
    "            \n",
    "        df_mod['patient_hla'+str(j)][i] = ','.join(transform[j])\n",
    "        transform = []"
   ]
  },
  {
   "cell_type": "code",
   "execution_count": null,
   "id": "cf4e4844",
   "metadata": {
    "id": "cc60339f"
   },
   "outputs": [],
   "source": [
    "def dividir_donor_hla(j):\n",
    "    transform = []\n",
    "    for i in range(len(df_mod)):\n",
    "        donor_hla = df_mod['donor_hla'][i].split(\",\")\n",
    "        \n",
    "        if len(donor_hla) < 18:\n",
    "            for z in range(18 - len(donor_hla)):\n",
    "                donor_hla.append(\"-\")\n",
    "                \n",
    "        for x, y in pares(donor_hla):\n",
    "            transform.append([x,y])\n",
    "            \n",
    "        df_mod['donor_hla'+str(j)][i] = ','.join(transform[j])\n",
    "        transform = []"
   ]
  },
  {
   "cell_type": "code",
   "execution_count": null,
   "id": "373bf2b8",
   "metadata": {
    "colab": {
     "base_uri": "https://localhost:8080/"
    },
    "id": "782ff51e",
    "outputId": "92df4f48-3f13-43b1-feed-f16583ca3c77"
   },
   "outputs": [],
   "source": [
    "for i in range(6): # vai de 0 a 5\n",
    "    dividir_patient_hla(i)"
   ]
  },
  {
   "cell_type": "code",
   "execution_count": null,
   "id": "504f8089",
   "metadata": {
    "colab": {
     "base_uri": "https://localhost:8080/"
    },
    "id": "2884f2ef",
    "outputId": "ab20def3-3a70-4b8d-fc89-08c80b3a4728"
   },
   "outputs": [],
   "source": [
    "for i in range(9): # vai de 0 a 8\n",
    "    dividir_donor_hla(i)"
   ]
  },
  {
   "cell_type": "code",
   "execution_count": null,
   "id": "b7e117d6",
   "metadata": {
    "id": "0bbb2120"
   },
   "outputs": [],
   "source": [
    "df_mod.drop('id', inplace=True, axis=1)\n",
    "df_mod.drop('donor_id', inplace=True, axis=1)\n",
    "df_mod.drop('patient_id', inplace=True, axis=1)\n",
    "df_mod.drop('patient_cpra', inplace=True, axis=1)\n",
    "df_mod.drop('patient_hla', inplace=True, axis=1)"
   ]
  },
  {
   "cell_type": "code",
   "execution_count": null,
   "id": "26098808",
   "metadata": {
    "id": "02fc978f"
   },
   "outputs": [],
   "source": [
    "df['patient_hla0'] = df['patient_hla0'].str.replace(',','/')\n",
    "df['patient_hla1'] = df['patient_hla1'].str.replace(',','/')\n",
    "df['patient_hla2'] = df['patient_hla2'].str.replace(',','/')\n",
    "df['patient_hla3'] = df['patient_hla3'].str.replace(',','/')\n",
    "df['patient_hla4'] = df['patient_hla4'].str.replace(',','/')\n",
    "df['patient_hla5'] = df['patient_hla5'].str.replace(',','/')\n",
    "\n",
    "for i in range(9):\n",
    "    df['donor_hla'+str(i)] = df['donor_hla'+str(i)].str.replace(',','/')"
   ]
  },
  {
   "cell_type": "code",
   "execution_count": null,
   "id": "e5a4b346",
   "metadata": {
    "id": "05b8217a"
   },
   "outputs": [],
   "source": [
    "df_mod.drop('donor_hla', inplace=True, axis=1)"
   ]
  },
  {
   "cell_type": "code",
   "execution_count": null,
   "id": "57e56e60",
   "metadata": {
    "colab": {
     "base_uri": "https://localhost:8080/",
     "height": 300
    },
    "id": "4f485d21",
    "outputId": "d7c75138-8635-46ef-d5f4-169aed3d83a3"
   },
   "outputs": [],
   "source": [
    "df_mod.head()"
   ]
  },
  {
   "cell_type": "code",
   "execution_count": null,
   "id": "3e438a93",
   "metadata": {
    "id": "c577c7d5"
   },
   "outputs": [],
   "source": [
    "df_mod = df_mod[['donor_hla0', 'donor_hla1', 'donor_hla2', 'donor_hla3', 'donor_hla4', 'donor_hla5', 'donor_hla6','donor_hla7','donor_hla8','patient_single_cl1', 'patient_single_cl2', 'patient_mixed_cl1', 'patient_mixed_cl2',\n",
    "                'epv_result', 'patient_hla0', 'patient_hla1', 'patient_hla2', 'patient_hla3', 'patient_hla4', 'patient_hla5',\n",
    "                'cdc_result']]"
   ]
  },
  {
   "cell_type": "code",
   "execution_count": null,
   "id": "6089389a",
   "metadata": {
    "id": "5cd794b6"
   },
   "outputs": [],
   "source": [
    "def classificarColunaDfMod(nome):\n",
    "    data_array = []\n",
    "    dict_dif_data = {}\n",
    "\n",
    "    for x in df_mod[nome]:\n",
    "        if x not in data_array:\n",
    "            if x == 'NaN':\n",
    "                continue\n",
    "            else:\n",
    "                data_array.append(x)\n",
    "    \n",
    "    count = 0\n",
    "    for x in data_array:\n",
    "        dict_dif_data[x] = count\n",
    "        count += 1\n",
    "    \n",
    "    for x in range(len(df[nome])):\n",
    "        if str(dict_dif_data[df_mod[nome][x]]) == 'nan':\n",
    "            continue\n",
    "        else:\n",
    "            df_mod[nome][x] = str(dict_dif_data[df_mod[nome][x]])"
   ]
  },
  {
   "cell_type": "code",
   "execution_count": null,
   "id": "35008134",
   "metadata": {
    "id": "0d31bfb7"
   },
   "outputs": [],
   "source": [
    "df_mod = df_mod[df_mod['patient_mixed_cl1'].str.contains(\"-\") == False]\n",
    "df_mod = df_mod[df_mod['patient_mixed_cl2'].str.contains(\"-\") == False]\n",
    "df_mod = df_mod[df_mod['epv_result'].str.contains(\"-\") == False]"
   ]
  },
  {
   "cell_type": "code",
   "execution_count": null,
   "id": "663931c0",
   "metadata": {
    "id": "1c7419df"
   },
   "outputs": [],
   "source": [
    "df_mod['patient_single_cl1'] = df_mod['patient_single_cl1'].astype('int64')\n",
    "df_mod['patient_single_cl2'] = df_mod['patient_single_cl2'].astype('int64')\n",
    "df_mod['patient_mixed_cl1'] = df_mod['patient_mixed_cl1'].astype('int64')\n",
    "df_mod['patient_mixed_cl2'] = df_mod['patient_mixed_cl2'].astype('int64')\n",
    "df_mod['epv_result'] = df_mod['epv_result'].astype('int64')\n",
    "df_mod['cdc_result'] = df_mod['cdc_result'].astype('int64')"
   ]
  },
  {
   "cell_type": "code",
   "execution_count": null,
   "id": "34b918f1",
   "metadata": {
    "id": "32d55c7f"
   },
   "outputs": [],
   "source": [
    "def unique(list1):\n",
    "      \n",
    "    # insert the list to the set\n",
    "    list_set = set(df_mod[list1])\n",
    "    # convert the set to the list\n",
    "    unique_list = (list(list_set))\n",
    "    \n",
    "    return unique_list"
   ]
  },
  {
   "cell_type": "code",
   "execution_count": null,
   "id": "6ed7dcb5",
   "metadata": {
    "id": "4569773f"
   },
   "outputs": [],
   "source": [
    "donor_hla0 = unique('donor_hla0')\n",
    "donor_hla1 = unique('donor_hla1')\n",
    "donor_hla2 = unique('donor_hla2')\n",
    "donor_hla3 = unique('donor_hla3')\n",
    "donor_hla4 = unique('donor_hla4')\n",
    "donor_hla5 = unique('donor_hla5')\n",
    "donor_hla6 = unique('donor_hla6')\n",
    "donor_hla7 = unique('donor_hla7')\n",
    "donor_hla8 = unique('donor_hla8')\n",
    "patient_single_cl1 = unique('patient_single_cl1')\n",
    "patient_single_cl2 = unique('patient_single_cl2')\n",
    "patient_mixed_cl1 = unique('patient_mixed_cl1')\n",
    "patient_mixed_cl2 = unique('patient_mixed_cl2')\n",
    "epv_result = unique('epv_result')\n",
    "cdc_result = unique('cdc_result')"
   ]
  },
  {
   "cell_type": "code",
   "execution_count": null,
   "id": "a41df2e2",
   "metadata": {
    "id": "ce4a3a53"
   },
   "outputs": [],
   "source": [
    "patient_hla0 = unique('patient_hla0')\n",
    "patient_hla1 = unique('patient_hla1')\n",
    "patient_hla2 = unique('patient_hla2')\n",
    "patient_hla3 = unique('patient_hla3')\n",
    "patient_hla4 = unique('patient_hla4')\n",
    "patient_hla5 = unique('patient_hla5')"
   ]
  },
  {
   "cell_type": "code",
   "execution_count": null,
   "id": "cbb7e088",
   "metadata": {
    "id": "7504ecaa"
   },
   "outputs": [],
   "source": [
    "count0 = (df_mod['cdc_result'] == 0).sum()\n",
    "count1 = (df_mod['cdc_result'] == 1).sum()"
   ]
  },
  {
   "cell_type": "code",
   "execution_count": null,
   "id": "db201ff7",
   "metadata": {
    "id": "93ac22e8"
   },
   "outputs": [],
   "source": [
    "df_mod = pd.get_dummies(df_mod)"
   ]
  },
  {
   "cell_type": "code",
   "execution_count": null,
   "id": "e468baf0",
   "metadata": {
    "colab": {
     "base_uri": "https://localhost:8080/",
     "height": 300
    },
    "id": "67ab122a",
    "outputId": "d74fe725-9b49-40cb-da36-fafc6609b95b"
   },
   "outputs": [],
   "source": [
    "df_mod.head(10)"
   ]
  },
  {
   "cell_type": "code",
   "execution_count": null,
   "id": "36f6dd12",
   "metadata": {
    "id": "8072a052"
   },
   "outputs": [],
   "source": [
    "from sklearn.model_selection import train_test_split\n",
    "from sklearn.utils import resample,shuffle"
   ]
  },
  {
   "cell_type": "code",
   "execution_count": null,
   "id": "4fa64978",
   "metadata": {
    "colab": {
     "base_uri": "https://localhost:8080/"
    },
    "id": "ddcbddfa",
    "outputId": "cad08269-6eb1-403f-97c9-878bcffc25e2"
   },
   "outputs": [],
   "source": [
    "count_class_0, count_class_1 = df_mod.cdc_result.value_counts()\n",
    "\n",
    "df_class_0 = df_mod[df_mod['cdc_result'] == 0]\n",
    "df_class_1 = df_mod[df_mod['cdc_result'] == 1]\n",
    "\n",
    "df_class_0_under = df_class_0.sample(count_class_1)\n",
    "df_test_under = pd.concat([df_class_0_under, df_class_1], axis=0)\n",
    "\n",
    "df_1_upsampled = resample(df_class_1, random_state=42, n_samples=len(df_class_0), replace=True)\n",
    "df_upsampled = pd.concat([df_1_upsampled, df_class_0])\n",
    "df_upsampled.cdc_result.value_counts()"
   ]
  },
  {
   "cell_type": "code",
   "execution_count": null,
   "id": "eceb07ee",
   "metadata": {
    "colab": {
     "base_uri": "https://localhost:8080/",
     "height": 488
    },
    "id": "cd78cc6c",
    "outputId": "c9692585-087f-412f-905c-69b42541d1bb"
   },
   "outputs": [],
   "source": [
    "df_upsampled"
   ]
  },
  {
   "cell_type": "code",
   "execution_count": null,
   "id": "36ad6446",
   "metadata": {
    "id": "0cdf1c97"
   },
   "outputs": [],
   "source": [
    "labels = df_upsampled['cdc_result'].to_numpy()\n",
    "df_upsampled = df_upsampled.drop('cdc_result', axis = 1).to_numpy()\n",
    "\n",
    "X_train, X_test, y_train, y_test = train_test_split(df_upsampled, labels, test_size = 0.40, random_state = 42)"
   ]
  },
  {
   "cell_type": "code",
   "execution_count": null,
   "id": "b09ff87e",
   "metadata": {
    "colab": {
     "base_uri": "https://localhost:8080/"
    },
    "id": "62068ba2",
    "outputId": "14f6519e-f160-4689-e1f7-89d54245608a"
   },
   "outputs": [],
   "source": [
    "print('Training Features Shape:', X_train.shape)\n",
    "print('Training Labels Shape:', y_train.shape)\n",
    "print('Testing Features Shape:', X_test.shape)\n",
    "print('Testing Labels Shape:', y_test.shape)"
   ]
  },
  {
   "cell_type": "code",
   "execution_count": null,
   "id": "8241af75",
   "metadata": {
    "id": "Sa1OKOWO7V4x"
   },
   "outputs": [],
   "source": [
    "import tensorflow.compat.v1 as tf\n",
    "tf.disable_v2_behavior()\n",
    "import matplotlib.pyplot as plt\n",
    "import seaborn as sns\n",
    "from sklearn.preprocessing import MinMaxScaler, Normalizer\n",
    "from sklearn.decomposition import PCA as sklearnPCA"
   ]
  },
  {
   "cell_type": "code",
   "execution_count": null,
   "id": "9641ff32",
   "metadata": {
    "id": "MK-fekir8Z7p"
   },
   "outputs": [],
   "source": [
    "enter = list(X_train[0].shape)[0]\n"
   ]
  },
  {
   "cell_type": "code",
   "execution_count": null,
   "id": "547536bc",
   "metadata": {
    "id": "6ug2xf89GQN5"
   },
   "outputs": [],
   "source": [
    "import numpy as np\n",
    "import random"
   ]
  },
  {
   "cell_type": "code",
   "execution_count": null,
   "id": "857aab68",
   "metadata": {
    "id": "WcaK71xSF9KF"
   },
   "outputs": [],
   "source": [
    "y_train = np.expand_dims(y_train,axis=-1)\n",
    "y_test = np.expand_dims(y_test,axis=-1)"
   ]
  },
  {
   "cell_type": "code",
   "execution_count": null,
   "id": "9468a5eb",
   "metadata": {
    "colab": {
     "base_uri": "https://localhost:8080/",
     "height": 1000
    },
    "id": "bWstzYxs71tq",
    "outputId": "2a7644a2-8ebc-4821-de6a-5281524a962d"
   },
   "outputs": [],
   "source": [
    "print(\"===========Data Summary===========\")\n",
    "print(\"Training Data :\", X_train.shape)\n",
    "print(\"Testing Data :\", X_test.shape)\n",
    "\n",
    "acc_for_mean = []\n",
    "accur = []\n",
    "\n",
    "node1 = 600\n",
    "node2 = 300\n",
    "node3 = 300\n",
    "\n",
    "for i in range(1000):\n",
    "    my_seed = random.randint(0, 12000)\n",
    "    stop = []\n",
    "    print(\"=========== RUN \" + str(i) + \"=================================================\")\n",
    "    X = tf.placeholder(tf.float32, [None, 1587])\n",
    "    Y = tf.placeholder(tf.float32, [None, 1])\n",
    "\n",
    "    #INPUT\n",
    "    W1 = tf.Variable(tf.random_normal([1587,node1], seed=my_seed), name='weight1')\n",
    "    b1 = tf.Variable(tf.random_normal([node1], seed=my_seed), name='bias1')\n",
    "    layer1 = tf.nn.sigmoid(tf.matmul(X,W1) + b1)\n",
    "\n",
    "    #HIDDEN 1\n",
    "    W2 = tf.Variable(tf.random_normal([node1,node2], seed=my_seed), name='weight2')\n",
    "    b2 = tf.Variable(tf.random_normal([node2], seed=my_seed), name='bias2')\n",
    "    layer2 = tf.nn.sigmoid(tf.matmul(layer1,W2) + b2)\n",
    "\n",
    "    #HIDDEN 2\n",
    "    W3 = tf.Variable(tf.random_normal([node2,node3], seed=my_seed), name='weight3')\n",
    "    b3 = tf.Variable(tf.random_normal([node3], seed=my_seed), name='bias3')\n",
    "    layer3 = tf.nn.sigmoid(tf.matmul(layer2,W3) + b3)\n",
    "\n",
    "    # output\n",
    "    W4 = tf.Variable(tf.random_normal([node3,1], seed=my_seed), name='weight4')\n",
    "    b4 = tf.Variable(tf.random_normal([1], seed=my_seed), name='bias4')\n",
    "\n",
    "    logits = tf.matmul(layer3,W4) + b4\n",
    "    hypothesis = tf.nn.sigmoid(logits)\n",
    "\n",
    "\n",
    "    cost_i = tf.nn.sigmoid_cross_entropy_with_logits(logits=logits,labels=Y)\n",
    "    cost = tf.reduce_mean(cost_i)\n",
    "\n",
    "    train = tf.train.GradientDescentOptimizer(learning_rate=0.001).minimize(cost)\n",
    "\n",
    "    prediction = tf.cast(hypothesis > 0.5, dtype=tf.float32)\n",
    "    correct_prediction = tf.equal(prediction, Y)\n",
    "    accuracy = tf.reduce_mean(tf.cast(correct_prediction, dtype=tf.float32))\n",
    "\n",
    "    print(\"\\n============Processing============\")\n",
    "    with tf.Session() as sess:\n",
    "        sess.run(tf.global_variables_initializer())\n",
    "        for step in range(500001):\n",
    "            sess.run(train, feed_dict={X: X_train, Y: y_train})\n",
    "            loss, acc = sess.run([cost, accuracy], feed_dict={X: X_train, Y: y_train})\n",
    "            \n",
    "            if acc >= 100.0:\n",
    "                print('======== EARLY STOP 100 ============================================')\n",
    "                break\n",
    "                \n",
    "            if step % 100 == 0:\n",
    "                #loss, acc = sess.run([cost, accuracy], feed_dict={X: X_train, Y: y_train})\n",
    "                stop.append(acc)\n",
    "                if len(stop) == 3:\n",
    "                    if stop[1] + 0.00005 >= stop[2] and stop[1] - 0.00005 <= stop[0]:\n",
    "                        print('======== EARLY STOP =========')\n",
    "                        break\n",
    "                    else:\n",
    "                        stop = []\n",
    "\n",
    "                print(\"Step: {:5}\\tLoss: {:.3f}\\tAcc: {:.5%}\".format(step, loss, acc))\n",
    "\n",
    "        train_acc = sess.run(accuracy, feed_dict={X: X_train, Y: y_train})\n",
    "        test_acc,test_predict,test_correct = sess.run([accuracy,prediction,correct_prediction], feed_dict={X: X_test, Y: y_test})\n",
    "\n",
    "        tupla = (train_acc*100, my_seed)\n",
    "        acc_for_mean.append(train_acc*100)\n",
    "        accur.append(tupla)\n",
    "        print(\"\\n============Results============\")\n",
    "        print(\"Model Prediction =\", train_acc)\n",
    "        print(\"Test Prediction =\", test_acc)\n",
    "\n",
    "print(\"\\n============Final Results============\")\n",
    "print(\"Best Model Prediction + Seed = \", max(accur))\n",
    "print(\"Worst Model Prediction + Seed = \", min(accur))\n",
    "print(\"Mean Model Prediction = \", np.mean(acc_for_mean))"
   ]
  },
  {
   "cell_type": "code",
   "execution_count": null,
   "id": "a5c8b18a",
   "metadata": {},
   "outputs": [],
   "source": []
  },
  {
   "cell_type": "code",
   "execution_count": null,
   "id": "fc84e041",
   "metadata": {},
   "outputs": [],
   "source": []
  }
 ],
 "metadata": {
  "colab": {
   "collapsed_sections": [],
   "name": "Cópia de Preprocesso_dados_IC_colab.ipynb",
   "provenance": []
  },
  "kernelspec": {
   "display_name": "gpu2",
   "language": "python",
   "name": "gpu2"
  },
  "language_info": {
   "codemirror_mode": {
    "name": "ipython",
    "version": 3
   },
   "file_extension": ".py",
   "mimetype": "text/x-python",
   "name": "python",
   "nbconvert_exporter": "python",
   "pygments_lexer": "ipython3",
   "version": "3.6.13"
  }
 },
 "nbformat": 4,
 "nbformat_minor": 5
}
